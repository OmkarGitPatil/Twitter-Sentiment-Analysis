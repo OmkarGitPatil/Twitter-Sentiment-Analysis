{
 "cells": [
  {
   "cell_type": "code",
   "execution_count": 1,
   "id": "832f2fda-b814-4d60-9b6f-328216214b1a",
   "metadata": {},
   "outputs": [],
   "source": [
    "import numpy as np\n",
    "import pandas as pd\n",
    "import time\n",
    "\n",
    "from nltk.tokenize import word_tokenize\n",
    "from string import punctuation\n",
    "from nltk.corpus import stopwords\n",
    "from nltk.stem import WordNetLemmatizer,LancasterStemmer\n",
    "\n",
    "from sklearn.model_selection import train_test_split\n",
    "from sklearn.preprocessing import LabelEncoder\n",
    "\n",
    "from sklearn.feature_extraction.text import CountVectorizer\n",
    "from sklearn.feature_extraction.text import TfidfVectorizer\n",
    "\n",
    "from sklearn.naive_bayes import MultinomialNB\n",
    "from sklearn.svm import SVC\n",
    "from sklearn.ensemble import RandomForestClassifier\n",
    "import xgboost\n",
    "\n",
    "from sklearn.metrics import accuracy_score"
   ]
  },
  {
   "cell_type": "code",
   "execution_count": 2,
   "id": "448a078d-2bb3-4113-bef4-804935cac4db",
   "metadata": {},
   "outputs": [],
   "source": [
    "df_tweets=pd.read_csv(r'C:\\Users\\Omkar\\Desktop\\NLP\\NLP\\NLP\\twitter_training.csv')"
   ]
  },
  {
   "cell_type": "code",
   "execution_count": 3,
   "id": "fbe05bbb-c237-459e-aea7-42c2346807dc",
   "metadata": {},
   "outputs": [
    {
     "data": {
      "text/html": [
       "<div>\n",
       "<style scoped>\n",
       "    .dataframe tbody tr th:only-of-type {\n",
       "        vertical-align: middle;\n",
       "    }\n",
       "\n",
       "    .dataframe tbody tr th {\n",
       "        vertical-align: top;\n",
       "    }\n",
       "\n",
       "    .dataframe thead th {\n",
       "        text-align: right;\n",
       "    }\n",
       "</style>\n",
       "<table border=\"1\" class=\"dataframe\">\n",
       "  <thead>\n",
       "    <tr style=\"text-align: right;\">\n",
       "      <th></th>\n",
       "      <th>No</th>\n",
       "      <th>class</th>\n",
       "      <th>Target</th>\n",
       "      <th>Review</th>\n",
       "    </tr>\n",
       "  </thead>\n",
       "  <tbody>\n",
       "    <tr>\n",
       "      <th>0</th>\n",
       "      <td>2401</td>\n",
       "      <td>Borderlands</td>\n",
       "      <td>Positive</td>\n",
       "      <td>im getting on borderlands and i will murder yo...</td>\n",
       "    </tr>\n",
       "    <tr>\n",
       "      <th>1</th>\n",
       "      <td>2401</td>\n",
       "      <td>Borderlands</td>\n",
       "      <td>Positive</td>\n",
       "      <td>I am coming to the borders and I will kill you...</td>\n",
       "    </tr>\n",
       "    <tr>\n",
       "      <th>2</th>\n",
       "      <td>2401</td>\n",
       "      <td>Borderlands</td>\n",
       "      <td>Positive</td>\n",
       "      <td>im getting on borderlands and i will kill you ...</td>\n",
       "    </tr>\n",
       "    <tr>\n",
       "      <th>3</th>\n",
       "      <td>2401</td>\n",
       "      <td>Borderlands</td>\n",
       "      <td>Positive</td>\n",
       "      <td>im coming on borderlands and i will murder you...</td>\n",
       "    </tr>\n",
       "    <tr>\n",
       "      <th>4</th>\n",
       "      <td>2401</td>\n",
       "      <td>Borderlands</td>\n",
       "      <td>Positive</td>\n",
       "      <td>im getting on borderlands 2 and i will murder ...</td>\n",
       "    </tr>\n",
       "    <tr>\n",
       "      <th>...</th>\n",
       "      <td>...</td>\n",
       "      <td>...</td>\n",
       "      <td>...</td>\n",
       "      <td>...</td>\n",
       "    </tr>\n",
       "    <tr>\n",
       "      <th>74677</th>\n",
       "      <td>9200</td>\n",
       "      <td>Nvidia</td>\n",
       "      <td>Positive</td>\n",
       "      <td>Just realized that the Windows partition of my...</td>\n",
       "    </tr>\n",
       "    <tr>\n",
       "      <th>74678</th>\n",
       "      <td>9200</td>\n",
       "      <td>Nvidia</td>\n",
       "      <td>Positive</td>\n",
       "      <td>Just realized that my Mac window partition is ...</td>\n",
       "    </tr>\n",
       "    <tr>\n",
       "      <th>74679</th>\n",
       "      <td>9200</td>\n",
       "      <td>Nvidia</td>\n",
       "      <td>Positive</td>\n",
       "      <td>Just realized the windows partition of my Mac ...</td>\n",
       "    </tr>\n",
       "    <tr>\n",
       "      <th>74680</th>\n",
       "      <td>9200</td>\n",
       "      <td>Nvidia</td>\n",
       "      <td>Positive</td>\n",
       "      <td>Just realized between the windows partition of...</td>\n",
       "    </tr>\n",
       "    <tr>\n",
       "      <th>74681</th>\n",
       "      <td>9200</td>\n",
       "      <td>Nvidia</td>\n",
       "      <td>Positive</td>\n",
       "      <td>Just like the windows partition of my Mac is l...</td>\n",
       "    </tr>\n",
       "  </tbody>\n",
       "</table>\n",
       "<p>74682 rows × 4 columns</p>\n",
       "</div>"
      ],
      "text/plain": [
       "         No        class    Target  \\\n",
       "0      2401  Borderlands  Positive   \n",
       "1      2401  Borderlands  Positive   \n",
       "2      2401  Borderlands  Positive   \n",
       "3      2401  Borderlands  Positive   \n",
       "4      2401  Borderlands  Positive   \n",
       "...     ...          ...       ...   \n",
       "74677  9200       Nvidia  Positive   \n",
       "74678  9200       Nvidia  Positive   \n",
       "74679  9200       Nvidia  Positive   \n",
       "74680  9200       Nvidia  Positive   \n",
       "74681  9200       Nvidia  Positive   \n",
       "\n",
       "                                                  Review  \n",
       "0      im getting on borderlands and i will murder yo...  \n",
       "1      I am coming to the borders and I will kill you...  \n",
       "2      im getting on borderlands and i will kill you ...  \n",
       "3      im coming on borderlands and i will murder you...  \n",
       "4      im getting on borderlands 2 and i will murder ...  \n",
       "...                                                  ...  \n",
       "74677  Just realized that the Windows partition of my...  \n",
       "74678  Just realized that my Mac window partition is ...  \n",
       "74679  Just realized the windows partition of my Mac ...  \n",
       "74680  Just realized between the windows partition of...  \n",
       "74681  Just like the windows partition of my Mac is l...  \n",
       "\n",
       "[74682 rows x 4 columns]"
      ]
     },
     "execution_count": 3,
     "metadata": {},
     "output_type": "execute_result"
    }
   ],
   "source": [
    "df_tweets"
   ]
  },
  {
   "cell_type": "code",
   "execution_count": 4,
   "id": "48fe0eb7-f02d-47c4-a815-c198765f3be1",
   "metadata": {},
   "outputs": [],
   "source": [
    "df1=df_tweets[0:40000]"
   ]
  },
  {
   "cell_type": "code",
   "execution_count": 5,
   "id": "ce92991a-8e0d-42ec-9d21-71e472d24c68",
   "metadata": {},
   "outputs": [
    {
     "data": {
      "text/html": [
       "<div>\n",
       "<style scoped>\n",
       "    .dataframe tbody tr th:only-of-type {\n",
       "        vertical-align: middle;\n",
       "    }\n",
       "\n",
       "    .dataframe tbody tr th {\n",
       "        vertical-align: top;\n",
       "    }\n",
       "\n",
       "    .dataframe thead th {\n",
       "        text-align: right;\n",
       "    }\n",
       "</style>\n",
       "<table border=\"1\" class=\"dataframe\">\n",
       "  <thead>\n",
       "    <tr style=\"text-align: right;\">\n",
       "      <th></th>\n",
       "      <th>No</th>\n",
       "      <th>class</th>\n",
       "      <th>Target</th>\n",
       "      <th>Review</th>\n",
       "    </tr>\n",
       "  </thead>\n",
       "  <tbody>\n",
       "    <tr>\n",
       "      <th>0</th>\n",
       "      <td>2401</td>\n",
       "      <td>Borderlands</td>\n",
       "      <td>Positive</td>\n",
       "      <td>im getting on borderlands and i will murder yo...</td>\n",
       "    </tr>\n",
       "    <tr>\n",
       "      <th>1</th>\n",
       "      <td>2401</td>\n",
       "      <td>Borderlands</td>\n",
       "      <td>Positive</td>\n",
       "      <td>I am coming to the borders and I will kill you...</td>\n",
       "    </tr>\n",
       "    <tr>\n",
       "      <th>2</th>\n",
       "      <td>2401</td>\n",
       "      <td>Borderlands</td>\n",
       "      <td>Positive</td>\n",
       "      <td>im getting on borderlands and i will kill you ...</td>\n",
       "    </tr>\n",
       "    <tr>\n",
       "      <th>3</th>\n",
       "      <td>2401</td>\n",
       "      <td>Borderlands</td>\n",
       "      <td>Positive</td>\n",
       "      <td>im coming on borderlands and i will murder you...</td>\n",
       "    </tr>\n",
       "    <tr>\n",
       "      <th>4</th>\n",
       "      <td>2401</td>\n",
       "      <td>Borderlands</td>\n",
       "      <td>Positive</td>\n",
       "      <td>im getting on borderlands 2 and i will murder ...</td>\n",
       "    </tr>\n",
       "    <tr>\n",
       "      <th>...</th>\n",
       "      <td>...</td>\n",
       "      <td>...</td>\n",
       "      <td>...</td>\n",
       "      <td>...</td>\n",
       "    </tr>\n",
       "    <tr>\n",
       "      <th>39995</th>\n",
       "      <td>1265</td>\n",
       "      <td>Battlefield</td>\n",
       "      <td>Neutral</td>\n",
       "      <td>German onslaught opened</td>\n",
       "    </tr>\n",
       "    <tr>\n",
       "      <th>39996</th>\n",
       "      <td>1266</td>\n",
       "      <td>Battlefield</td>\n",
       "      <td>Negative</td>\n",
       "      <td>Unfair respawn</td>\n",
       "    </tr>\n",
       "    <tr>\n",
       "      <th>39997</th>\n",
       "      <td>1266</td>\n",
       "      <td>Battlefield</td>\n",
       "      <td>Negative</td>\n",
       "      <td>Unfair Resurrection</td>\n",
       "    </tr>\n",
       "    <tr>\n",
       "      <th>39998</th>\n",
       "      <td>1266</td>\n",
       "      <td>Battlefield</td>\n",
       "      <td>Negative</td>\n",
       "      <td>An Unfair Respawn</td>\n",
       "    </tr>\n",
       "    <tr>\n",
       "      <th>39999</th>\n",
       "      <td>1266</td>\n",
       "      <td>Battlefield</td>\n",
       "      <td>Negative</td>\n",
       "      <td>Unfair terms</td>\n",
       "    </tr>\n",
       "  </tbody>\n",
       "</table>\n",
       "<p>40000 rows × 4 columns</p>\n",
       "</div>"
      ],
      "text/plain": [
       "         No        class    Target  \\\n",
       "0      2401  Borderlands  Positive   \n",
       "1      2401  Borderlands  Positive   \n",
       "2      2401  Borderlands  Positive   \n",
       "3      2401  Borderlands  Positive   \n",
       "4      2401  Borderlands  Positive   \n",
       "...     ...          ...       ...   \n",
       "39995  1265  Battlefield   Neutral   \n",
       "39996  1266  Battlefield  Negative   \n",
       "39997  1266  Battlefield  Negative   \n",
       "39998  1266  Battlefield  Negative   \n",
       "39999  1266  Battlefield  Negative   \n",
       "\n",
       "                                                  Review  \n",
       "0      im getting on borderlands and i will murder yo...  \n",
       "1      I am coming to the borders and I will kill you...  \n",
       "2      im getting on borderlands and i will kill you ...  \n",
       "3      im coming on borderlands and i will murder you...  \n",
       "4      im getting on borderlands 2 and i will murder ...  \n",
       "...                                                  ...  \n",
       "39995                            German onslaught opened  \n",
       "39996                                  Unfair respawn     \n",
       "39997                                Unfair Resurrection  \n",
       "39998                                  An Unfair Respawn  \n",
       "39999                                       Unfair terms  \n",
       "\n",
       "[40000 rows x 4 columns]"
      ]
     },
     "execution_count": 5,
     "metadata": {},
     "output_type": "execute_result"
    }
   ],
   "source": [
    "df1"
   ]
  },
  {
   "cell_type": "code",
   "execution_count": 6,
   "id": "3f9f4b01-f7b9-406d-8235-325ff9a465ad",
   "metadata": {},
   "outputs": [],
   "source": [
    "x=df1['Review']\n",
    "y=df1['Target']"
   ]
  },
  {
   "cell_type": "code",
   "execution_count": 7,
   "id": "e7c97053-ffdb-438e-8617-ec4293012e87",
   "metadata": {},
   "outputs": [
    {
     "data": {
      "text/plain": [
       "0        im getting on borderlands and i will murder yo...\n",
       "1        I am coming to the borders and I will kill you...\n",
       "2        im getting on borderlands and i will kill you ...\n",
       "3        im coming on borderlands and i will murder you...\n",
       "4        im getting on borderlands 2 and i will murder ...\n",
       "                               ...                        \n",
       "39995                              German onslaught opened\n",
       "39996                                    Unfair respawn   \n",
       "39997                                  Unfair Resurrection\n",
       "39998                                    An Unfair Respawn\n",
       "39999                                         Unfair terms\n",
       "Name: Review, Length: 40000, dtype: object"
      ]
     },
     "execution_count": 7,
     "metadata": {},
     "output_type": "execute_result"
    }
   ],
   "source": [
    "x"
   ]
  },
  {
   "cell_type": "code",
   "execution_count": 8,
   "id": "d69590b9-6b30-4212-a942-71b170744e7c",
   "metadata": {},
   "outputs": [
    {
     "data": {
      "text/plain": [
       "364"
      ]
     },
     "execution_count": 8,
     "metadata": {},
     "output_type": "execute_result"
    }
   ],
   "source": [
    "x.isna().sum()"
   ]
  },
  {
   "cell_type": "code",
   "execution_count": 9,
   "id": "37e65bc1-2ee3-40b6-9242-cc658fe6d930",
   "metadata": {},
   "outputs": [
    {
     "data": {
      "text/plain": [
       "0                                                     \n",
       "1    At the same time, despite the fact that there ...\n",
       "2    It is not the first time that the EU Commissio...\n",
       "dtype: object"
      ]
     },
     "execution_count": 9,
     "metadata": {},
     "output_type": "execute_result"
    }
   ],
   "source": [
    "x.mode()"
   ]
  },
  {
   "cell_type": "code",
   "execution_count": 10,
   "id": "23ce076a-f4e2-4e37-aee4-63315bad63c3",
   "metadata": {},
   "outputs": [
    {
     "name": "stderr",
     "output_type": "stream",
     "text": [
      "C:\\Users\\Omkar\\anaconda3\\lib\\site-packages\\pandas\\core\\generic.py:6392: SettingWithCopyWarning: \n",
      "A value is trying to be set on a copy of a slice from a DataFrame\n",
      "\n",
      "See the caveats in the documentation: https://pandas.pydata.org/pandas-docs/stable/user_guide/indexing.html#returning-a-view-versus-a-copy\n",
      "  return self._update_inplace(result)\n"
     ]
    }
   ],
   "source": [
    "x.fillna(x.mode()[0],inplace=True)"
   ]
  },
  {
   "cell_type": "code",
   "execution_count": 11,
   "id": "cf6c6756-dc42-4227-adc4-f95427fa710b",
   "metadata": {},
   "outputs": [
    {
     "data": {
      "text/plain": [
       "0"
      ]
     },
     "execution_count": 11,
     "metadata": {},
     "output_type": "execute_result"
    }
   ],
   "source": [
    "x.isna().sum()"
   ]
  },
  {
   "cell_type": "markdown",
   "id": "fb9214f1-5283-47b0-b998-081705306b57",
   "metadata": {},
   "source": [
    "## 1) Tokenize"
   ]
  },
  {
   "cell_type": "code",
   "execution_count": 12,
   "id": "037ff86a-4319-46f9-b943-d85ba44c8eee",
   "metadata": {},
   "outputs": [],
   "source": [
    "def tokenization(data):\n",
    "    tokens=word_tokenize(data)\n",
    "    return tokens"
   ]
  },
  {
   "cell_type": "code",
   "execution_count": 13,
   "id": "f8fef942-fb62-427d-a284-5cc0152244a7",
   "metadata": {},
   "outputs": [
    {
     "data": {
      "text/plain": [
       "0        [im, getting, on, borderlands, and, i, will, m...\n",
       "1        [I, am, coming, to, the, borders, and, I, will...\n",
       "2        [im, getting, on, borderlands, and, i, will, k...\n",
       "3        [im, coming, on, borderlands, and, i, will, mu...\n",
       "4        [im, getting, on, borderlands, 2, and, i, will...\n",
       "                               ...                        \n",
       "39995                          [German, onslaught, opened]\n",
       "39996                                    [Unfair, respawn]\n",
       "39997                               [Unfair, Resurrection]\n",
       "39998                                [An, Unfair, Respawn]\n",
       "39999                                      [Unfair, terms]\n",
       "Name: Review, Length: 40000, dtype: object"
      ]
     },
     "execution_count": 13,
     "metadata": {},
     "output_type": "execute_result"
    }
   ],
   "source": [
    "x_tokens=x.apply(tokenization)\n",
    "x_tokens"
   ]
  },
  {
   "cell_type": "code",
   "execution_count": null,
   "id": "0bf9353f-5761-484d-b8b4-7af6971d2b3c",
   "metadata": {},
   "outputs": [],
   "source": []
  },
  {
   "cell_type": "markdown",
   "id": "96e4c23c-7fa3-474e-9f64-af03060cf53d",
   "metadata": {},
   "source": [
    "# 2) Cleaning"
   ]
  },
  {
   "cell_type": "code",
   "execution_count": 14,
   "id": "139074ce-0d0b-4ae5-b91c-bf13e1024663",
   "metadata": {},
   "outputs": [],
   "source": [
    "def cleaning(data):\n",
    "    clean_text=[i for i in data if i not in punctuation]\n",
    "    return clean_text"
   ]
  },
  {
   "cell_type": "code",
   "execution_count": 15,
   "id": "f8a9d2a5-8514-4783-80ff-085736249bd1",
   "metadata": {},
   "outputs": [
    {
     "data": {
      "text/plain": [
       "0        [im, getting, on, borderlands, and, i, will, m...\n",
       "1        [I, am, coming, to, the, borders, and, I, will...\n",
       "2        [im, getting, on, borderlands, and, i, will, k...\n",
       "3        [im, coming, on, borderlands, and, i, will, mu...\n",
       "4        [im, getting, on, borderlands, 2, and, i, will...\n",
       "                               ...                        \n",
       "39995                          [German, onslaught, opened]\n",
       "39996                                    [Unfair, respawn]\n",
       "39997                               [Unfair, Resurrection]\n",
       "39998                                [An, Unfair, Respawn]\n",
       "39999                                      [Unfair, terms]\n",
       "Name: Review, Length: 40000, dtype: object"
      ]
     },
     "execution_count": 15,
     "metadata": {},
     "output_type": "execute_result"
    }
   ],
   "source": [
    "x_clean=x_tokens.apply(cleaning)\n",
    "x_clean"
   ]
  },
  {
   "cell_type": "code",
   "execution_count": null,
   "id": "9898f097-3520-4566-9283-f6def0e87513",
   "metadata": {},
   "outputs": [],
   "source": []
  },
  {
   "cell_type": "markdown",
   "id": "258dd41d-d2cf-4ca6-a3e7-946e9f901c12",
   "metadata": {},
   "source": [
    "## 3) Normalization"
   ]
  },
  {
   "cell_type": "code",
   "execution_count": 16,
   "id": "6034a70a-7947-48a8-85e7-46dcac436596",
   "metadata": {},
   "outputs": [],
   "source": [
    "def normalize(data):\n",
    "    normal_text=[i.lower() for i in data]\n",
    "    return normal_text"
   ]
  },
  {
   "cell_type": "code",
   "execution_count": 17,
   "id": "db50784f-d8bb-429c-9966-123e95fb6e18",
   "metadata": {},
   "outputs": [
    {
     "data": {
      "text/plain": [
       "0        [im, getting, on, borderlands, and, i, will, m...\n",
       "1        [i, am, coming, to, the, borders, and, i, will...\n",
       "2        [im, getting, on, borderlands, and, i, will, k...\n",
       "3        [im, coming, on, borderlands, and, i, will, mu...\n",
       "4        [im, getting, on, borderlands, 2, and, i, will...\n",
       "                               ...                        \n",
       "39995                          [german, onslaught, opened]\n",
       "39996                                    [unfair, respawn]\n",
       "39997                               [unfair, resurrection]\n",
       "39998                                [an, unfair, respawn]\n",
       "39999                                      [unfair, terms]\n",
       "Name: Review, Length: 40000, dtype: object"
      ]
     },
     "execution_count": 17,
     "metadata": {},
     "output_type": "execute_result"
    }
   ],
   "source": [
    "x_normal=x_clean.apply(normalize)\n",
    "x_normal"
   ]
  },
  {
   "cell_type": "code",
   "execution_count": null,
   "id": "e48c74d7-aeb9-4764-bd1b-8952e4667de2",
   "metadata": {},
   "outputs": [],
   "source": []
  },
  {
   "cell_type": "markdown",
   "id": "2483d870-4533-4d54-82b1-104551bc31a4",
   "metadata": {},
   "source": [
    "# 4) Stop Words Removal"
   ]
  },
  {
   "cell_type": "code",
   "execution_count": 18,
   "id": "5e3bcc30-4817-4954-b53d-44a02b8eb0df",
   "metadata": {},
   "outputs": [],
   "source": [
    "stop=stopwords.words('english')\n",
    "def stop_removal(data):\n",
    "    stop_text=[i for i in data if i not in stop]\n",
    "    return stop_text"
   ]
  },
  {
   "cell_type": "code",
   "execution_count": 19,
   "id": "91cac88f-b70b-4081-ad08-938f06f5a296",
   "metadata": {},
   "outputs": [
    {
     "data": {
      "text/plain": [
       "0           [im, getting, borderlands, murder]\n",
       "1                      [coming, borders, kill]\n",
       "2             [im, getting, borderlands, kill]\n",
       "3            [im, coming, borderlands, murder]\n",
       "4        [im, getting, borderlands, 2, murder]\n",
       "                         ...                  \n",
       "39995              [german, onslaught, opened]\n",
       "39996                        [unfair, respawn]\n",
       "39997                   [unfair, resurrection]\n",
       "39998                        [unfair, respawn]\n",
       "39999                          [unfair, terms]\n",
       "Name: Review, Length: 40000, dtype: object"
      ]
     },
     "execution_count": 19,
     "metadata": {},
     "output_type": "execute_result"
    }
   ],
   "source": [
    "x_no_stops=x_normal.apply(stop_removal)\n",
    "x_no_stops"
   ]
  },
  {
   "cell_type": "code",
   "execution_count": null,
   "id": "133dff08-34d5-4b9b-8331-2c42d03a8e16",
   "metadata": {},
   "outputs": [],
   "source": []
  },
  {
   "cell_type": "markdown",
   "id": "70d20975-29f1-41c5-84d2-248b001379b5",
   "metadata": {},
   "source": [
    "# 5) Stemming and Lemmatization"
   ]
  },
  {
   "cell_type": "code",
   "execution_count": 20,
   "id": "e2286ab7-74da-48df-820b-1895972f5a04",
   "metadata": {},
   "outputs": [],
   "source": [
    "lemma=WordNetLemmatizer()\n",
    "def lemmatization(data):\n",
    "    l1=[]\n",
    "    for i in data:\n",
    "        word=lemma.lemmatize(i)\n",
    "        l1.append(word)\n",
    "    return l1"
   ]
  },
  {
   "cell_type": "code",
   "execution_count": 21,
   "id": "d4df99c5-96d4-4352-92a8-7f59b34313f1",
   "metadata": {},
   "outputs": [
    {
     "data": {
      "text/plain": [
       "0           [im, getting, borderland, murder]\n",
       "1                      [coming, border, kill]\n",
       "2             [im, getting, borderland, kill]\n",
       "3            [im, coming, borderland, murder]\n",
       "4        [im, getting, borderland, 2, murder]\n",
       "                         ...                 \n",
       "39995             [german, onslaught, opened]\n",
       "39996                       [unfair, respawn]\n",
       "39997                  [unfair, resurrection]\n",
       "39998                       [unfair, respawn]\n",
       "39999                          [unfair, term]\n",
       "Name: Review, Length: 40000, dtype: object"
      ]
     },
     "execution_count": 21,
     "metadata": {},
     "output_type": "execute_result"
    }
   ],
   "source": [
    "x_lemma=x_no_stops.apply(lemmatization)\n",
    "x_lemma"
   ]
  },
  {
   "cell_type": "code",
   "execution_count": null,
   "id": "ab3841c6-0314-4777-b2f8-c22c3db03862",
   "metadata": {},
   "outputs": [],
   "source": []
  },
  {
   "cell_type": "markdown",
   "id": "32517744-9613-49eb-838d-a1839e1ea7b5",
   "metadata": {},
   "source": [
    "# Join list"
   ]
  },
  {
   "cell_type": "code",
   "execution_count": 22,
   "id": "5d57d02a-fe95-4bb3-a7ea-569750d2520b",
   "metadata": {},
   "outputs": [],
   "source": [
    "def string(data):\n",
    "    strings=' '.join(data)\n",
    "    return strings"
   ]
  },
  {
   "cell_type": "code",
   "execution_count": 23,
   "id": "5d74cd8a-b760-4bd7-b2fe-8c0367145e36",
   "metadata": {},
   "outputs": [
    {
     "data": {
      "text/plain": [
       "0          im getting borderland murder\n",
       "1                    coming border kill\n",
       "2            im getting borderland kill\n",
       "3           im coming borderland murder\n",
       "4        im getting borderland 2 murder\n",
       "                      ...              \n",
       "39995           german onslaught opened\n",
       "39996                    unfair respawn\n",
       "39997               unfair resurrection\n",
       "39998                    unfair respawn\n",
       "39999                       unfair term\n",
       "Name: Review, Length: 40000, dtype: object"
      ]
     },
     "execution_count": 23,
     "metadata": {},
     "output_type": "execute_result"
    }
   ],
   "source": [
    "x_final=x_lemma.apply(string)\n",
    "x_final"
   ]
  },
  {
   "cell_type": "code",
   "execution_count": null,
   "id": "8716b614-1d9c-4bee-96a7-7a328d587272",
   "metadata": {},
   "outputs": [],
   "source": []
  },
  {
   "cell_type": "markdown",
   "id": "ee3b97cf-f866-4a1a-be55-131bc52cb976",
   "metadata": {},
   "source": [
    "# CountVectorizer"
   ]
  },
  {
   "cell_type": "code",
   "execution_count": 24,
   "id": "c5e3268e-9815-47f9-9f9c-a9d916d065ed",
   "metadata": {},
   "outputs": [],
   "source": [
    "cv=CountVectorizer(lowercase=True,stop_words='english',max_df=0.95,max_features=2000)\n",
    "cv_train=cv.fit_transform(x_final)"
   ]
  },
  {
   "cell_type": "code",
   "execution_count": 25,
   "id": "db2c3904-b59f-4c59-ae97-edce7d5daac7",
   "metadata": {},
   "outputs": [
    {
     "data": {
      "text/plain": [
       "<40000x2000 sparse matrix of type '<class 'numpy.int64'>'\n",
       "\twith 277310 stored elements in Compressed Sparse Row format>"
      ]
     },
     "execution_count": 25,
     "metadata": {},
     "output_type": "execute_result"
    }
   ],
   "source": [
    "cv_train"
   ]
  },
  {
   "cell_type": "code",
   "execution_count": 26,
   "id": "9cf79cfe-e8ad-4304-a94a-a2602bb4b952",
   "metadata": {},
   "outputs": [
    {
     "data": {
      "text/plain": [
       "array([[0, 0, 0, ..., 0, 0, 0],\n",
       "       [0, 0, 0, ..., 0, 0, 0],\n",
       "       [0, 0, 0, ..., 0, 0, 0],\n",
       "       ...,\n",
       "       [0, 0, 0, ..., 0, 0, 0],\n",
       "       [0, 0, 0, ..., 0, 0, 0],\n",
       "       [0, 0, 0, ..., 0, 0, 0]], dtype=int64)"
      ]
     },
     "execution_count": 26,
     "metadata": {},
     "output_type": "execute_result"
    }
   ],
   "source": [
    "cv_train.A"
   ]
  },
  {
   "cell_type": "code",
   "execution_count": 27,
   "id": "7b75ae0a-c0a4-4386-8f7f-c2c91cfd6709",
   "metadata": {},
   "outputs": [
    {
     "name": "stdout",
     "output_type": "stream",
     "text": [
      "['00', '000', '01', '02', '03', '05', '06', '07', '08', '09', '10', '100', '1000', '11', '12', '13', '14', '15', '16', '17', '18', '19', '1st', '1v1', '20', '200', '2008', '2009', '2010', '2011', '2012', '2013', '2014', '2015', '2016', '2017', '2018', '2019', '2020', '21', '22', '23', '24', '24hr', '25', '26', '28', '2k', '2k20', '2k21', '2ksupport', '2nd', '30', '300', '31', '35', '360', '365', '3d', '40', '45', '4k', '4th', '50', '500', '5th', '60', '70', '80', '800', '90', '95', '99', 'ability', 'able', 'absolute', 'absolutely', 'ac', 'academy', 'acc', 'access', 'accidentally', 'account', 'achievement', 'act', 'acting', 'action', 'activision', 'actor', 'actual', 'actually', 'ad', 'add', 'added', 'addicted', 'adding', 'addition', 'admit', 'adventure', 'aesthetic', 'af', 'afk', 'age', 'agent', 'ago', 'agree', 'ah', 'ahead', 'ai', 'aim', 'air', 'aka', 'al', 'album', 'alexa', 'alexander', 'alliance', 'allow', 'allowed', 'ama', 'amazing', 'amazon', 'america', 'american', 'amzn', 'ana', 'ancient', 'android', 'anger', 'angry', 'animal', 'animation', 'anna', 'announce', 'announced', 'announcement', 'annoying', 'answer', 'anti', 'anymore', 'anytime', 'apart', 'apex', 'app', 'apparently', 'apple', 'application', 'appreciate', 'appreciated', 'apps', 'april', 'area', 'arena', 'army', 'art', 'article', 'articles', 'artist', 'ash', 'ask', 'asked', 'asking', 'assassin', 'assassinscreed', 'asshole', 'assist', 'atm', 'attack', 'attacked', 'attempt', 'attention', 'atviassist', 'audience', 'audio', 'australia', 'automatically', 'available', 'average', 'award', 'away', 'awesome', 'awful', 'awww', 'azure', 'baby', 'backwards', 'bad', 'badly', 'bag', 'ball', 'ban', 'bank', 'banned', 'barely', 'base', 'based', 'basic', 'basically', 'basketball', 'battery', 'battle', 'battlefield', 'battleground', 'battlepass', 'bbc', 'bc', 'bear', 'beat', 'beating', 'beautiful', 'bed', 'begin', 'beginning', 'believe', 'beluba', 'benefit', 'best', 'beta', 'bethesda', 'better', 'bezos', 'bf4db', 'bg', 'big', 'bigger', 'biggest', 'billion', 'bioshock', 'birdeye', 'birthday', 'bit', 'bitch', 'bl3', 'black', 'blame', 'blast', 'blizzard', 'blizzard_ent', 'blizzardcs', 'blm', 'block', 'blocked', 'blog', 'blood', 'bloody', 'blue', 'board', 'body', 'bomb', 'bonus', 'book', 'boost', 'border', 'borderland', 'bored', 'boring', 'bos', 'bot', 'bother', 'bought', 'bout', 'box', 'boy', 'br', 'bracket', 'brain', 'brand', 'break', 'breaking', 'brilliant', 'bring', 'bringing', 'brings', 'bro', 'broke', 'broken', 'brother', 'brotherhood', 'brought', 'browser', 'bruh', 'bts', 'btw', 'buck', 'buddy', 'buff', 'bug', 'build', 'building', 'built', 'bullshit', 'bunch', 'bundle', 'burn', 'burning', 'business', 'busy', 'button', 'buy', 'buying', 'bye', 'ca', 'calendar', 'called', 'calling', 'callofduty', 'came', 'camera', 'campaign', 'cancel', 'cancelled', 'canyon', 'cap', 'car', 'card', 'care', 'career', 'carry', 'case', 'casey', 'cash', 'cast', 'casting', 'casual', 'cat', 'catch', 'category', 'cause', 'caused', 'cc', 'celebrate', 'center', 'certainly', 'challenge', 'champ', 'champion', 'championship', 'chance', 'change', 'changed', 'changing', 'channel', 'chaos', 'chapter', 'character', 'charge', 'chat', 'cheap', 'cheat', 'cheater', 'cheating', 'check', 'checking', 'cheer', 'child', 'chill', 'choice', 'chris', 'christmas', 'chrome', 'cinematic', 'city', 'claim', 'class', 'classic', 'classroom', 'clean', 'clear', 'clearly', 'click', 'climb', 'clip', 'clips', 'close', 'clothes', 'clothing', 'cloud', 'club', 'cnet', 'cod', 'code', 'coffee', 'cold', 'collection', 'color', 'com', 'combat', 'combo', 'come', 'comfortable', 'coming', 'command', 'comment', 'commercial', 'commission', 'common', 'communication', 'community', 'comp', 'company', 'compared', 'compatible', 'compete', 'competition', 'competitive', 'complain', 'complains', 'complaint', 'complete', 'completed', 'completely', 'computer', 'concept', 'condition', 'confirm', 'confirmed', 'congrats', 'congratulation', 'connect', 'connection', 'console', 'constant', 'constantly', 'consumer', 'contact', 'content', 'continue', 'continues', 'contract', 'control', 'controller', 'conversation', 'cool', 'coolest', 'cop', 'copy', 'core', 'coronavirus', 'cosplay', 'cost', 'count', 'counter', 'country', 'couple', 'course', 'cover', 'covid', 'coward', 'crack', 'crap', 'crappy', 'crash', 'crashing', 'crazy', 'create', 'created', 'creative', 'creator', 'credit', 'creed', 'crime', 'criminal', 'cross', 'crush', 'csgo', 'cup', 'current', 'currently', 'custom', 'customer', 'cut', 'cute', 'cuz', 'cx', 'cyberpunk', 'da', 'da2', 'daily', 'damage', 'dame', 'damn', 'damned', 'dance', 'dark', 'data', 'date', 'day', 'dead', 'deal', 'dear', 'death', 'decade', 'decent', 'decided', 'decision', 'deck', 'deep', 'defense', 'definitely', 'delay', 'delayed', 'delete', 'deleted', 'deliver', 'delivery', 'demo', 'demon', 'deserve', 'deserved', 'deserves', 'design', 'designed', 'desk', 'despite', 'destiny', 'developer', 'device', 'devs', 'diamond', 'dick', 'didnt', 'die', 'died', 'difference', 'different', 'difficult', 'difficulty', 'digital', 'directly', 'dirty', 'disappoint', 'disappointed', 'disappointing', 'disappointment', 'discord', 'discovered', 'disgusting', 'division', 'dlc', 'dlvr', 'dm', 'document', 'doesnt', 'dog', 'dollar', 'dont', 'doom', 'door', 'dope', 'dot', 'dota', 'dota2', 'double', 'doubt', 'download', 'downloaded', 'downloading', 'dp', 'dr', 'dragon', 'draw', 'drawing', 'dream', 'drive', 'driver', 'drop', 'dropped', 'dropping', 'dude', 'duel', 'dumb', 'dumbass', 'duo', 'duty', 'duvalmagic', 'dying', 'dynamic', 'e3', 'ea', 'earlier', 'early', 'earn', 'earned', 'earth', 'easily', 'east', 'easy', 'eat', 'eating', 'ebay', 'echo', 'edge', 'edit', 'edition', 'effect', 'effort', 'elo', 'em', 'email', 'embarrassing', 'emotional', 'empire', 'employee', 'en', 'end', 'ended', 'ending', 'enemy', 'engine', 'enjoy', 'enjoyable', 'enjoyed', 'enjoying', 'ent', 'enter', 'entering', 'entertainment', 'entire', 'entirely', 'environment', 'ep', 'epic', 'epicgames', 'episode', 'error', 'especially', 'esports', 'est', 'eu', 'europe', 'evening', 'event', 'eventually', 'everybody', 'everyday', 'everytime', 'evil', 'ex', 'exactly', 'example', 'excel', 'excellent', 'excited', 'exciting', 'exclusive', 'excuse', 'exist', 'exists', 'expansion', 'expect', 'expected', 'expensive', 'experience', 'experienced', 'explain', 'extra', 'extremely', 'eye', 'fable', 'face', 'facebook', 'fact', 'fail', 'failed', 'fair', 'fake', 'fall', 'falling', 'fallout', 'false', 'fam', 'family', 'fan', 'fandom', 'fang', 'fantastic', 'fantasy', 'far', 'farm', 'fast', 'faster', 'fat', 'fault', 'fav', 'fave', 'favorite', 'favourite', 'fb', 'fear', 'feature', 'featuring', 'feed', 'feel', 'feeling', 'fella', 'felt', 'female', 'fenco', 'festival', 'fifa', 'fight', 'fighting', 'figure', 'figured', 'file', 'filled', 'film', 'final', 'finally', 'fine', 'finish', 'finished', 'fit', 'fix', 'fixed', 'flag', 'flip', 'flop', 'flying', 'fm', 'fnatic', 'focus', 'folk', 'follow', 'follower', 'following', 'food', 'fool', 'foot', 'force', 'forever', 'forget', 'forgot', 'form', 'formula', 'fortnightly', 'fortnite', 'fortnitegame', 'forum', 'forward', 'fps', 'fr', 'franchise', 'freaking', 'free', 'freedom', 'fresh', 'friday', 'fridge', 'friend', 'friendly', 'frustrating', 'fuck', 'fucked', 'fuckin', 'fucking', 'fully', 'fun', 'funny', 'future', 'gain', 'galaxy', 'game', 'gameplay', 'gamer', 'gamers', 'gaming', 'gang', 'garbage', 'gate', 'gave', 'gay', 'gd', 'gear', 'gearbox', 'gearboxofficial', 'geek', 'gen', 'general', 'generation', 'genuinely', 'getting', 'gg', 'ghost', 'giant', 'gift', 'girl', 'girlfriend', 'github', 'giveaway', 'given', 'giving', 'glad', 'glass', 'global', 'gmail', 'goal', 'god', 'goddamn', 'going', 'gold', 'golden', 'gon', 'gone', 'goo', 'good', 'goodbye', 'google', 'gorgeous', 'got', 'gotten', 'grab', 'grand', 'graphic', 'grateful', 'great', 'greatest', 'greedy', 'green', 'grind', 'grinding', 'ground', 'group', 'grow', 'gta', 'guard', 'guess', 'guild', 'gun', 'guy', 'hacked', 'hacker', 'haha', 'hahaha', 'hair', 'hakusho', 'half', 'halloween', 'halo', 'hand', 'handle', 'handsome', 'hang', 'hanging', 'happen', 'happened', 'happening', 'happens', 'happy', 'hard', 'harder', 'hardware', 'hate', 'hated', 'hd', 'head', 'headphone', 'health', 'healthy', 'hear', 'heard', 'heart', 'hearthstone', 'heartstone', 'heck', 'hell', 'hello', 'help', 'helped', 'helpful', 'helping', 'hero', 'hey', 'hi', 'high', 'higher', 'highlight', 'highly', 'hilarious', 'history', 'hit', 'hold', 'hole', 'holy', 'home', 'honest', 'honestly', 'honor', 'hop', 'hope', 'hopefully', 'hoping', 'horde', 'horizon', 'horrible', 'horrific', 'horror', 'host', 'hot', 'hour', 'house', 'html', 'http', 'huge', 'huh', 'human', 'humbly', 'hunt', 'hunter', 'hurt', 'hydrant', 'hype', 'hyped', 'ice', 'id', 'idc', 'idea', 'idiot', 'idk', 'idle', 'ift', 'ii', 'iii', 'ik', 'ill', 'illegal', 'im', 'ima', 'image', 'imagine', 'imma', 'immediately', 'imo', 'impact', 'important', 'impossible', 'impressed', 'impressive', 'improve', 'included', 'includes', 'including', 'incredible', 'incredibly', 'india', 'indian', 'industry', 'infinite', 'info', 'information', 'insane', 'inside', 'inspired', 'instagram', 'installed', 'instead', 'interested', 'interesting', 'international', 'internet', 'involved', 'io', 'ip', 'ipad', 'iphone', 'issue', 'italy', 'item', 'itunes', 'iv', 'ive', 'jack', 'james', 'jeff', 'jesus', 'job', 'joe', 'john', 'join', 'joining', 'joke', 'journey', 'joy', 'jp', 'july', 'jump', 'jumping', 'june', 'jungle', 'kamuy', 'keeping', 'kept', 'key', 'kick', 'kicked', 'kid', 'kill', 'killed', 'killing', 'kind', 'kinda', 'king', 'kingdom', 'kit', 'knew', 'know', 'knowing', 'known', 'kobe', 'krieg', 'la', 'lack', 'ladder', 'lady', 'lag', 'lagging', 'land', 'language', 'laptop', 'late', 'lately', 'later', 'latest', 'laugh', 'launch', 'law', 'ld2k', 'le', 'lead', 'leader', 'league', 'leagueoflegends', 'leak', 'leaked', 'learn', 'learned', 'learning', 'leave', 'left', 'legend', 'legendary', 'lego', 'lesson', 'let', 'level', 'li', 'liar', 'lie', 'life', 'light', 'like', 'liked', 'likely', 'lil', 'limited', 'line', 'link', 'list', 'listen', 'listening', 'lit', 'literally', 'little', 'live', 'living', 'll', 'lmao', 'lmfao', 'load', 'loading', 'lobby', 'local', 'lock', 'log', 'login', 'lol', 'long', 'longer', 'look', 'looked', 'looking', 'loot', 'lord', 'lose', 'loser', 'losing', 'loss', 'lost', 'lot', 'love', 'loved', 'lovely', 'loving', 'low', 'lower', 'luck', 'lucky', 'ly', 'lying', 'mac', 'mad', 'mage', 'magic', 'mail', 'main', 'mainly', 'major', 'make', 'making', 'man', 'managed', 'management', 'map', 'march', 'mario', 'mark', 'market', 'marketing', 'mask', 'mass', 'massive', 'master', 'match', 'matchmaking', 'matter', 'max', 'maya', 'maybe', 'mayhem', 'mean', 'mechanic', 'medal', 'medium', 'meet', 'meeting', 'member', 'meme', 'memory', 'men', 'mental', 'mention', 'menu', 'mercy', 'mess', 'message', 'meta', 'meter', 'mf', 'mic', 'microsoft', 'mid', 'middle', 'mile', 'million', 'min', 'mind', 'minecraft', 'mini', 'minion', 'minute', 'miss', 'missed', 'missing', 'mission', 'mistake', 'mix', 'mixer', 'mm', 'mobile', 'mod', 'mode', 'model', 'modern', 'modifier', 'mom', 'moment', 'mon', 'monday', 'money', 'montage', 'month', 'morning', 'mother', 'mount', 'movement', 'movie', 'moving', 'mr', 'mt', 'multiplayer', 'multiple', 'murder', 'music', 'mw', 'myteam', 'mythology', 'n2k', 'na', 'nasty', 'national', 'nba', 'nba2k', 'nba2k_myteam', 'near', 'nearly', 'need', 'needed', 'negative', 'nerd', 'nerf', 'net', 'netflix', 'network', 'new', 'newest', 'news', 'ngl', 'nice', 'nick', 'nigga', 'night', 'nightmare', 'nintendo', 'non', 'nonsense', 'noob', 'normal', 'note', 'noticed', 'november', 'nr', 'number', 'obviously', 'occurred', 'odd', 'odyssey', 'offer', 'office', 'official', 'officially', 'og', 'oh', 'ok', 'okay', 'old', 'omfg', 'omg', 'online', 'op', 'open', 'opened', 'opening', 'opinion', 'opponent', 'opportunity', 'ops', 'option', 'order', 'ordered', 'org', 'orgrimmar', 'origin', 'original', 'outage', 'outlook', 'outside', 'overall', 'overwatch', 'ow', 'owl', 'pa', 'pack', 'package', 'page', 'paid', 'pain', 'paladin', 'pandemic', 'paper', 'parent', 'park', 'participating', 'particular', 'partner', 'party', 'pas', 'password', 'past', 'patch', 'pathetic', 'pay', 'paying', 'pc', 'peace', 'people', 'perfect', 'perfectly', 'performance', 'perk', 'person', 'personal', 'personally', 'phishing', 'phone', 'photo', 'pic', 'pick', 'picture', 'piece', 'ping', 'pirate', 'piss', 'pixel', 'place', 'plague', 'plan', 'platform', 'platinum', 'play', 'playapex', 'played', 'player', 'playhearthstone', 'playing', 'playoverwatch', 'playstation', 'playvalorant', 'pleasure', 'plot', 'pls', 'plus', 'plz', 'pm', 'pocket', 'podcast', 'point', 'pokemon', 'police', 'policy', 'pool', 'poor', 'pop', 'popular', 'port', 'positive', 'possible', 'possibly', 'post', 'posted', 'posting', 'potential', 'poverty', 'power', 'powerful', 'ppl', 'practice', 'pre', 'preorder', 'present', 'president', 'press', 'pretty', 'preview', 'previous', 'price', 'priest', 'prime', 'prize', 'pro', 'probably', 'problem', 'process', 'product', 'production', 'professional', 'profile', 'program', 'progress', 'project', 'promise', 'proper', 'properly', 'protect', 'proud', 'prove', 'ps4', 'ps5', 'psycho', 'pt', 'pub', 'public', 'pull', 'pulled', 'pumped', 'punch', 'purchase', 'purchased', 'pure', 'purple', 'push', 'pussy', 'putting', 'quality', 'quarantine', 'quarter', 'queen', 'quest', 'question', 'quick', 'quickly', 'quiet', 'quit', 'quite', 'quiz', 'race', 'racing', 'racist', 'rage', 'raid', 'ran', 'random', 'rank', 'ranked', 'ranking', 'rate', 'rating', 'ray', 'reached', 'read', 'reading', 'ready', 'real', 'reality', 'realize', 'realized', 'really', 'reason', 'receive', 'received', 'recent', 'recently', 'recommend', 'recommended', 'record', 'red', 'redd', 'reddit', 'reforged', 'refund', 'refuse', 'regarding', 'region', 'register', 'regular', 'related', 'release', 'released', 'releasing', 'remake', 'remaster', 'remember', 'reminder', 'reminds', 'remote', 'remove', 'removed', 'rep', 'reply', 'report', 'reported', 'reporting', 'request', 'research', 'reset', 'respawn', 'respect', 'response', 'rest', 'result', 'return', 'retweet', 'rev', 'reveal', 'revealed', 'review', 'reward', 'rhandlerr', 'rhttpr', 'rid', 'ridiculous', 'right', 'ring', 'riot', 'riotgames', 'rip', 'rise', 'risk', 'rn', 'rng', 'road', 'rock', 'rogue', 'role', 'roll', 'ron2k', 'ronnie2k', 'room', 'round', 'row', 'royale', 'rp', 'rpg', 'rt', 'ruin', 'ruined', 'ruining', 'rumor', 'run', 'running', 'rush', 'sa', 'sad', 'safe', 'said', 'sale', 'samsung', 'satisfying', 'saturday', 'save', 'saving', 'saw', 'say', 'saying', 'sbmm', 'scam', 'scammer', 'scared', 'scary', 'scene', 'schedule', 'school', 'score', 'scream', 'screen', 'screenshot', 'screw', 'sea', 'search', 'season', 'second', 'secret', 'security', 'seeing', 'seen', 'selection', 'self', 'sell', 'seller', 'selling', 'send', 'sending', 'sense', 'sent', 'seo', 'september', 'series', 'seriously', 'server', 'service', 'session', 'set', 'setting', 'setup', 'sexy', 'shadow', 'shadowlands', 'shall', 'shaman', 'shame', 'share', 'shared', 'sharing', 'shift', 'ship', 'shipping', 'shirt', 'shit', 'shitty', 'shoe', 'shoot', 'shooter', 'shooting', 'shop', 'short', 'shot', 'shout', 'shoutout', 'showcase', 'showed', 'showing', 'shown', 'shroud', 'shut', 'sick', 'sign', 'signed', 'silver', 'similar', 'simple', 'simply', 'single', 'sir', 'sister', 'sit', 'site', 'sitting', 'situation', 'size', 'skill', 'skin', 'skip', 'sky', 'slap', 'sleep', 'slide', 'slightly', 'slow', 'slowly', 'small', 'smart', 'smh', 'smooth', 'sniper', 'sniping', 'social', 'software', 'sold', 'solid', 'solo', 'solution', 'solve', 'somebody', 'son', 'song', 'sony', 'soo', 'soon', 'sooo', 'soooo', 'sooooo', 'sorry', 'sort', 'soul', 'sound', 'soundtrack', 'source', 'south', 'space', 'spam', 'spec', 'special', 'speed', 'spend', 'spent', 'spider', 'split', 'sport', 'spotify', 'spread', 'squad', 'sr', 'staff', 'stand', 'standard', 'star', 'start', 'started', 'starting', 'state', 'stats', 'status', 'stay', 'steal', 'steam', 'step', 'stick', 'stock', 'stop', 'stopped', 'store', 'storm', 'story', 'straight', 'strange', 'strategy', 'streak', 'stream', 'streamer', 'streaming', 'streamlabs', 'street', 'strike', 'strong', 'struggle', 'stuck', 'student', 'studio', 'study', 'stuff', 'stunning', 'stupid', 'style', 'sub', 'submit', 'subscription', 'success', 'successful', 'successfully', 'suck', 'sucked', 'suddenly', 'summer', 'summoners', 'sunday', 'super', 'support', 'supported', 'supporting', 'supposed', 'sure', 'surely', 'surface', 'surprise', 'surprised', 'swear', 'sweet', 'switch', 'ta', 'tab', 'tag', 'taken', 'taking', 'talented', 'talk', 'talking', 'tank', 'target', 'task', 'taste', 'tbh', 'tch', 'teacher', 'team', 'teammate', 'tear', 'tech', 'technical', 'technology', 'tell', 'telling', 'tentacle', 'term', 'terrible', 'test', 'text', 'tf', 'tf2', 'thank', 'thanks', 'thats', 'theme', 'theverge', 'thief', 'thing', 'think', 'thinking', 'tho', 'thought', 'thousand', 'thrash', 'thread', 'threat', 'throw', 'throwing', 'thursday', 'thx', 'ti', 'ticket', 'tier', 'tiktok', 'tile', 'till', 'time', 'timing', 'tinyurl', 'tip', 'tired', 'titanfall', 'title', 'toast', 'today', 'token', 'told', 'tomorrow', 'ton', 'tonight', 'tony', 'took', 'tool', 'total', 'totally', 'touch', 'tough', 'tournament', 'toxic', 'tracer', 'trailer', 'training', 'trash', 'treasure', 'treyarch', 'trick', 'tried', 'trio', 'troll', 'trouble', 'true', 'truly', 'trump', 'trust', 'truth', 'try', 'trying', 'tryna', 'tt', 'tuesday', 'tune', 'turkey', 'turn', 'turned', 'turning', 'tv', 'tweet', 'twice', 'twitch', 'twitter', 'twobrosgaming', 'type', 'ubisoft', 'ugh', 'ugly', 'ui', 'uk', 'ult', 'ultimate', 'unable', 'understand', 'unfortunately', 'unique', 'unit', 'united', 'universe', 'unk', 'unless', 'unlocked', 'unplayable', 'unreal', 'upcoming', 'update', 'updated', 'upgrade', 'upset', 'ur', 'usa', 'use', 'used', 'useless', 'user', 'using', 'usual', 'usually', 'vac', 'valhalla', 'valorant', 'value', 'valve', 'valvesoftware', 'various', 'vc', 've', 'version', 'vibe', 'victory', 'vid', 'video', 'view', 'viewer', 'viking', 'virtual', 'virus', 'vision', 'visit', 'voice', 'vr', 'wait', 'waiting', 'wake', 'wall', 'walmart', 'wan', 'want', 'wanted', 'wanting', 'war', 'warcraft', 'warfare', 'warlock', 'warning', 'warrior', 'warzone', 'waste', 'wasted', 'wasting', 'watch', 'watched', 'watching', 'water', 'wave', 'way', 'weapon', 'wearing', 'web', 'website', 'wednesday', 'week', 'weekend', 'weird', 'welcome', 'went', 'west', 'white', 'wide', 'wife', 'wifi', 'wikipedia', 'wild', 'willing', 'win', 'window', 'winner', 'winning', 'wish', 'witcher', 'wn', 'wo', 'woman', 'wonder', 'wonderful', 'wondering', 'wont', 'wood', 'word', 'work', 'worked', 'worker', 'working', 'world', 'worse', 'worst', 'worth', 'wow', 'write', 'writing', 'wrong', 'wtf', 'www', 'xbox', 'xboxp3', 'xd', 'ya', 'yall', 'yay', 'yeah', 'year', 'yes', 'yesterday', 'yo', 'york', 'young', 'youtu', 'youtube', 'youtubegaming', 'yu', 'yup', 'zero', 'zombie', 'zone', 'zonestream', 'zoom', 'яй']\n"
     ]
    },
    {
     "name": "stderr",
     "output_type": "stream",
     "text": [
      "C:\\Users\\Omkar\\anaconda3\\lib\\site-packages\\sklearn\\utils\\deprecation.py:87: FutureWarning: Function get_feature_names is deprecated; get_feature_names is deprecated in 1.0 and will be removed in 1.2. Please use get_feature_names_out instead.\n",
      "  warnings.warn(msg, category=FutureWarning)\n"
     ]
    }
   ],
   "source": [
    "print(cv.get_feature_names())"
   ]
  },
  {
   "cell_type": "code",
   "execution_count": 28,
   "id": "193be28a-f39b-46fd-8ca5-5c3f36d7f6a4",
   "metadata": {},
   "outputs": [
    {
     "data": {
      "text/plain": [
       "2000"
      ]
     },
     "execution_count": 28,
     "metadata": {},
     "output_type": "execute_result"
    }
   ],
   "source": [
    "len(cv.get_feature_names())"
   ]
  },
  {
   "cell_type": "code",
   "execution_count": 29,
   "id": "ae4e6160-8a3e-4ff0-895d-f0479c2ff42f",
   "metadata": {},
   "outputs": [
    {
     "name": "stdout",
     "output_type": "stream",
     "text": [
      "frozenset({'became', 'about', 'you', 're', 'himself', 'down', 'up', 'keep', 'before', 'yours', 'someone', 'yourselves', 'cant', 'nor', 'how', 'also', 'mine', 'some', 'in', 'thence', 'have', 'is', 'whereas', 'seemed', 'not', 'interest', 'out', 'its', 'whoever', 'ten', 'your', 'former', 'show', 'either', 'will', 'part', 'beforehand', 'once', 'seeming', 'un', 'something', 'sometimes', 'thru', 'it', 'toward', 'somehow', 'because', 'become', 'top', 'through', 'herein', 'myself', 'enough', 'beyond', 'hence', 'yourself', 'her', 'ltd', 'him', 'per', 'six', 'sixty', 'always', 'we', 'everywhere', 'with', 'them', 'a', 'everything', 'further', 'made', 'get', 'or', 'whenever', 'am', 'noone', 'rather', 'whence', 'first', 'front', 'side', 'throughout', 'whose', 'system', 'otherwise', 'being', 'back', 'well', 'their', 'eleven', 'empty', 'amount', 'towards', 'beside', 'bottom', 'thereafter', 'ourselves', 'inc', 'thick', 'on', 'fifteen', 'none', 'any', 'amongst', 'many', 'therein', 'both', 'at', 'becomes', 'should', 'behind', 'four', 'only', 'serious', 'whereupon', 'this', 'wherein', 'three', 'formerly', 'found', 'latterly', 'together', 'off', 'what', 'anything', 'describe', 'yet', 'less', 'whole', 'here', 'twelve', 'his', 'meanwhile', 'third', 'besides', 'cannot', 'though', 'themselves', 'thin', 'due', 'from', 'around', 'such', 'onto', 'sincere', 'an', 'across', 'via', 'were', 'therefore', 'had', 'put', 'much', 'do', 'whether', 'those', 'whom', 'eight', 'again', 'however', 'whereby', 'no', 'and', 'but', 'itself', 'bill', 'de', 'must', 'she', 'hasnt', 'several', 'seem', 'anyone', 'etc', 'all', 'upon', 'detail', 'go', 'two', 'name', 'so', 'by', 'anywhere', 'that', 'then', 'than', 'me', 'for', 'fire', 'thereby', 'couldnt', 'give', 'whither', 'even', 'if', 'without', 'would', 'until', 'over', 'somewhere', 'nothing', 'already', 'take', 'which', 'twenty', 'why', 'same', 'seems', 'becoming', 'whatever', 'was', 'these', 'above', 'thereupon', 'moreover', 'ie', 'hers', 'our', 'can', 'hereafter', 'other', 'co', 'nine', 'thus', 'nevertheless', 'more', 'herself', 'are', 'when', 'own', 'indeed', 'done', 'alone', 'along', 'my', 'i', 'under', 'nowhere', 'every', 'please', 'latter', 'they', 'another', 'neither', 'between', 'find', 'elsewhere', 'wherever', 'most', 'been', 'namely', 'never', 'still', 'us', 'often', 'last', 'who', 'could', 'ours', 'anyway', 'full', 'of', 'con', 'very', 'within', 'hereby', 'next', 'below', 'least', 'afterwards', 'as', 'each', 'eg', 'be', 'during', 'nobody', 'among', 'since', 'mill', 'everyone', 'one', 'cry', 'forty', 'call', 'perhaps', 'fill', 'hundred', 'ever', 'while', 'although', 'see', 'sometime', 'after', 'now', 'few', 'where', 'into', 'move', 'has', 'he', 'hereupon', 'to', 'fifty', 'five', 'against', 'may', 'too', 'might', 'amoungst', 'mostly', 'the', 'others', 'anyhow', 'except', 'there', 'whereafter', 'else', 'almost'})\n"
     ]
    }
   ],
   "source": [
    "print(cv.get_stop_words())"
   ]
  },
  {
   "cell_type": "code",
   "execution_count": 30,
   "id": "abf478af-d3fb-4019-a7ec-d6b7a8125180",
   "metadata": {},
   "outputs": [
    {
     "data": {
      "text/html": [
       "<div>\n",
       "<style scoped>\n",
       "    .dataframe tbody tr th:only-of-type {\n",
       "        vertical-align: middle;\n",
       "    }\n",
       "\n",
       "    .dataframe tbody tr th {\n",
       "        vertical-align: top;\n",
       "    }\n",
       "\n",
       "    .dataframe thead th {\n",
       "        text-align: right;\n",
       "    }\n",
       "</style>\n",
       "<table border=\"1\" class=\"dataframe\">\n",
       "  <thead>\n",
       "    <tr style=\"text-align: right;\">\n",
       "      <th></th>\n",
       "      <th>00</th>\n",
       "      <th>000</th>\n",
       "      <th>01</th>\n",
       "      <th>02</th>\n",
       "      <th>03</th>\n",
       "      <th>05</th>\n",
       "      <th>06</th>\n",
       "      <th>07</th>\n",
       "      <th>08</th>\n",
       "      <th>09</th>\n",
       "      <th>...</th>\n",
       "      <th>youtube</th>\n",
       "      <th>youtubegaming</th>\n",
       "      <th>yu</th>\n",
       "      <th>yup</th>\n",
       "      <th>zero</th>\n",
       "      <th>zombie</th>\n",
       "      <th>zone</th>\n",
       "      <th>zonestream</th>\n",
       "      <th>zoom</th>\n",
       "      <th>яй</th>\n",
       "    </tr>\n",
       "  </thead>\n",
       "  <tbody>\n",
       "    <tr>\n",
       "      <th>0</th>\n",
       "      <td>0</td>\n",
       "      <td>0</td>\n",
       "      <td>0</td>\n",
       "      <td>0</td>\n",
       "      <td>0</td>\n",
       "      <td>0</td>\n",
       "      <td>0</td>\n",
       "      <td>0</td>\n",
       "      <td>0</td>\n",
       "      <td>0</td>\n",
       "      <td>...</td>\n",
       "      <td>0</td>\n",
       "      <td>0</td>\n",
       "      <td>0</td>\n",
       "      <td>0</td>\n",
       "      <td>0</td>\n",
       "      <td>0</td>\n",
       "      <td>0</td>\n",
       "      <td>0</td>\n",
       "      <td>0</td>\n",
       "      <td>0</td>\n",
       "    </tr>\n",
       "    <tr>\n",
       "      <th>1</th>\n",
       "      <td>0</td>\n",
       "      <td>0</td>\n",
       "      <td>0</td>\n",
       "      <td>0</td>\n",
       "      <td>0</td>\n",
       "      <td>0</td>\n",
       "      <td>0</td>\n",
       "      <td>0</td>\n",
       "      <td>0</td>\n",
       "      <td>0</td>\n",
       "      <td>...</td>\n",
       "      <td>0</td>\n",
       "      <td>0</td>\n",
       "      <td>0</td>\n",
       "      <td>0</td>\n",
       "      <td>0</td>\n",
       "      <td>0</td>\n",
       "      <td>0</td>\n",
       "      <td>0</td>\n",
       "      <td>0</td>\n",
       "      <td>0</td>\n",
       "    </tr>\n",
       "    <tr>\n",
       "      <th>2</th>\n",
       "      <td>0</td>\n",
       "      <td>0</td>\n",
       "      <td>0</td>\n",
       "      <td>0</td>\n",
       "      <td>0</td>\n",
       "      <td>0</td>\n",
       "      <td>0</td>\n",
       "      <td>0</td>\n",
       "      <td>0</td>\n",
       "      <td>0</td>\n",
       "      <td>...</td>\n",
       "      <td>0</td>\n",
       "      <td>0</td>\n",
       "      <td>0</td>\n",
       "      <td>0</td>\n",
       "      <td>0</td>\n",
       "      <td>0</td>\n",
       "      <td>0</td>\n",
       "      <td>0</td>\n",
       "      <td>0</td>\n",
       "      <td>0</td>\n",
       "    </tr>\n",
       "    <tr>\n",
       "      <th>3</th>\n",
       "      <td>0</td>\n",
       "      <td>0</td>\n",
       "      <td>0</td>\n",
       "      <td>0</td>\n",
       "      <td>0</td>\n",
       "      <td>0</td>\n",
       "      <td>0</td>\n",
       "      <td>0</td>\n",
       "      <td>0</td>\n",
       "      <td>0</td>\n",
       "      <td>...</td>\n",
       "      <td>0</td>\n",
       "      <td>0</td>\n",
       "      <td>0</td>\n",
       "      <td>0</td>\n",
       "      <td>0</td>\n",
       "      <td>0</td>\n",
       "      <td>0</td>\n",
       "      <td>0</td>\n",
       "      <td>0</td>\n",
       "      <td>0</td>\n",
       "    </tr>\n",
       "    <tr>\n",
       "      <th>4</th>\n",
       "      <td>0</td>\n",
       "      <td>0</td>\n",
       "      <td>0</td>\n",
       "      <td>0</td>\n",
       "      <td>0</td>\n",
       "      <td>0</td>\n",
       "      <td>0</td>\n",
       "      <td>0</td>\n",
       "      <td>0</td>\n",
       "      <td>0</td>\n",
       "      <td>...</td>\n",
       "      <td>0</td>\n",
       "      <td>0</td>\n",
       "      <td>0</td>\n",
       "      <td>0</td>\n",
       "      <td>0</td>\n",
       "      <td>0</td>\n",
       "      <td>0</td>\n",
       "      <td>0</td>\n",
       "      <td>0</td>\n",
       "      <td>0</td>\n",
       "    </tr>\n",
       "    <tr>\n",
       "      <th>5</th>\n",
       "      <td>0</td>\n",
       "      <td>0</td>\n",
       "      <td>0</td>\n",
       "      <td>0</td>\n",
       "      <td>0</td>\n",
       "      <td>0</td>\n",
       "      <td>0</td>\n",
       "      <td>0</td>\n",
       "      <td>0</td>\n",
       "      <td>0</td>\n",
       "      <td>...</td>\n",
       "      <td>0</td>\n",
       "      <td>0</td>\n",
       "      <td>0</td>\n",
       "      <td>0</td>\n",
       "      <td>0</td>\n",
       "      <td>0</td>\n",
       "      <td>0</td>\n",
       "      <td>0</td>\n",
       "      <td>0</td>\n",
       "      <td>0</td>\n",
       "    </tr>\n",
       "    <tr>\n",
       "      <th>6</th>\n",
       "      <td>0</td>\n",
       "      <td>0</td>\n",
       "      <td>0</td>\n",
       "      <td>0</td>\n",
       "      <td>0</td>\n",
       "      <td>0</td>\n",
       "      <td>0</td>\n",
       "      <td>0</td>\n",
       "      <td>0</td>\n",
       "      <td>0</td>\n",
       "      <td>...</td>\n",
       "      <td>0</td>\n",
       "      <td>0</td>\n",
       "      <td>0</td>\n",
       "      <td>0</td>\n",
       "      <td>0</td>\n",
       "      <td>0</td>\n",
       "      <td>0</td>\n",
       "      <td>0</td>\n",
       "      <td>0</td>\n",
       "      <td>0</td>\n",
       "    </tr>\n",
       "    <tr>\n",
       "      <th>7</th>\n",
       "      <td>0</td>\n",
       "      <td>0</td>\n",
       "      <td>0</td>\n",
       "      <td>0</td>\n",
       "      <td>0</td>\n",
       "      <td>0</td>\n",
       "      <td>0</td>\n",
       "      <td>0</td>\n",
       "      <td>0</td>\n",
       "      <td>0</td>\n",
       "      <td>...</td>\n",
       "      <td>0</td>\n",
       "      <td>0</td>\n",
       "      <td>0</td>\n",
       "      <td>0</td>\n",
       "      <td>0</td>\n",
       "      <td>0</td>\n",
       "      <td>0</td>\n",
       "      <td>0</td>\n",
       "      <td>0</td>\n",
       "      <td>0</td>\n",
       "    </tr>\n",
       "    <tr>\n",
       "      <th>8</th>\n",
       "      <td>0</td>\n",
       "      <td>0</td>\n",
       "      <td>0</td>\n",
       "      <td>0</td>\n",
       "      <td>0</td>\n",
       "      <td>0</td>\n",
       "      <td>0</td>\n",
       "      <td>0</td>\n",
       "      <td>0</td>\n",
       "      <td>0</td>\n",
       "      <td>...</td>\n",
       "      <td>0</td>\n",
       "      <td>0</td>\n",
       "      <td>0</td>\n",
       "      <td>0</td>\n",
       "      <td>0</td>\n",
       "      <td>0</td>\n",
       "      <td>0</td>\n",
       "      <td>0</td>\n",
       "      <td>0</td>\n",
       "      <td>0</td>\n",
       "    </tr>\n",
       "    <tr>\n",
       "      <th>9</th>\n",
       "      <td>0</td>\n",
       "      <td>0</td>\n",
       "      <td>0</td>\n",
       "      <td>0</td>\n",
       "      <td>0</td>\n",
       "      <td>0</td>\n",
       "      <td>0</td>\n",
       "      <td>0</td>\n",
       "      <td>0</td>\n",
       "      <td>0</td>\n",
       "      <td>...</td>\n",
       "      <td>0</td>\n",
       "      <td>0</td>\n",
       "      <td>0</td>\n",
       "      <td>0</td>\n",
       "      <td>0</td>\n",
       "      <td>0</td>\n",
       "      <td>0</td>\n",
       "      <td>0</td>\n",
       "      <td>0</td>\n",
       "      <td>0</td>\n",
       "    </tr>\n",
       "  </tbody>\n",
       "</table>\n",
       "<p>10 rows × 2000 columns</p>\n",
       "</div>"
      ],
      "text/plain": [
       "   00  000  01  02  03  05  06  07  08  09  ...  youtube  youtubegaming  yu  \\\n",
       "0   0    0   0   0   0   0   0   0   0   0  ...        0              0   0   \n",
       "1   0    0   0   0   0   0   0   0   0   0  ...        0              0   0   \n",
       "2   0    0   0   0   0   0   0   0   0   0  ...        0              0   0   \n",
       "3   0    0   0   0   0   0   0   0   0   0  ...        0              0   0   \n",
       "4   0    0   0   0   0   0   0   0   0   0  ...        0              0   0   \n",
       "5   0    0   0   0   0   0   0   0   0   0  ...        0              0   0   \n",
       "6   0    0   0   0   0   0   0   0   0   0  ...        0              0   0   \n",
       "7   0    0   0   0   0   0   0   0   0   0  ...        0              0   0   \n",
       "8   0    0   0   0   0   0   0   0   0   0  ...        0              0   0   \n",
       "9   0    0   0   0   0   0   0   0   0   0  ...        0              0   0   \n",
       "\n",
       "   yup  zero  zombie  zone  zonestream  zoom  яй  \n",
       "0    0     0       0     0           0     0   0  \n",
       "1    0     0       0     0           0     0   0  \n",
       "2    0     0       0     0           0     0   0  \n",
       "3    0     0       0     0           0     0   0  \n",
       "4    0     0       0     0           0     0   0  \n",
       "5    0     0       0     0           0     0   0  \n",
       "6    0     0       0     0           0     0   0  \n",
       "7    0     0       0     0           0     0   0  \n",
       "8    0     0       0     0           0     0   0  \n",
       "9    0     0       0     0           0     0   0  \n",
       "\n",
       "[10 rows x 2000 columns]"
      ]
     },
     "execution_count": 30,
     "metadata": {},
     "output_type": "execute_result"
    }
   ],
   "source": [
    "df_train=pd.DataFrame(cv_train.A,columns=cv.get_feature_names())\n",
    "df_train.head(10)"
   ]
  },
  {
   "cell_type": "code",
   "execution_count": 31,
   "id": "a6bab0b9-4d77-4a9f-99e6-5383d6a28f5d",
   "metadata": {},
   "outputs": [
    {
     "data": {
      "text/plain": [
       "(40000, 2000)"
      ]
     },
     "execution_count": 31,
     "metadata": {},
     "output_type": "execute_result"
    }
   ],
   "source": [
    "df_train.shape"
   ]
  },
  {
   "cell_type": "code",
   "execution_count": 32,
   "id": "cb692368-409d-470e-a818-04af37a1aab3",
   "metadata": {},
   "outputs": [
    {
     "data": {
      "text/plain": [
       "array([3, 3, 3, ..., 1, 1, 1])"
      ]
     },
     "execution_count": 32,
     "metadata": {},
     "output_type": "execute_result"
    }
   ],
   "source": [
    "encoder=LabelEncoder()\n",
    "y=encoder.fit_transform(y)\n",
    "y"
   ]
  },
  {
   "cell_type": "code",
   "execution_count": 33,
   "id": "2da66d5f-20d8-4de7-b9bf-845d211ed48d",
   "metadata": {},
   "outputs": [
    {
     "data": {
      "text/plain": [
       "array(['Irrelevant', 'Negative', 'Neutral', 'Positive'], dtype=object)"
      ]
     },
     "execution_count": 33,
     "metadata": {},
     "output_type": "execute_result"
    }
   ],
   "source": [
    "encoder.classes_"
   ]
  },
  {
   "cell_type": "code",
   "execution_count": 34,
   "id": "02d5461c-4129-454d-94be-f26c18952524",
   "metadata": {},
   "outputs": [],
   "source": [
    "x_train,x_test,y_train,y_test=train_test_split(df_train,y,stratify=y,random_state=13,test_size=0.25)"
   ]
  },
  {
   "cell_type": "markdown",
   "id": "ce7e53ac-1899-428a-9dbf-5d70cefdaf36",
   "metadata": {},
   "source": [
    "## Multinomial Naive Bayes"
   ]
  },
  {
   "cell_type": "code",
   "execution_count": 35,
   "id": "ed17b1b6-dd61-489e-937c-7c82afa8e7a7",
   "metadata": {},
   "outputs": [
    {
     "name": "stdout",
     "output_type": "stream",
     "text": [
      "Wall time: 3.23 s\n"
     ]
    },
    {
     "data": {
      "text/html": [
       "<style>#sk-container-id-1 {color: black;background-color: white;}#sk-container-id-1 pre{padding: 0;}#sk-container-id-1 div.sk-toggleable {background-color: white;}#sk-container-id-1 label.sk-toggleable__label {cursor: pointer;display: block;width: 100%;margin-bottom: 0;padding: 0.3em;box-sizing: border-box;text-align: center;}#sk-container-id-1 label.sk-toggleable__label-arrow:before {content: \"▸\";float: left;margin-right: 0.25em;color: #696969;}#sk-container-id-1 label.sk-toggleable__label-arrow:hover:before {color: black;}#sk-container-id-1 div.sk-estimator:hover label.sk-toggleable__label-arrow:before {color: black;}#sk-container-id-1 div.sk-toggleable__content {max-height: 0;max-width: 0;overflow: hidden;text-align: left;background-color: #f0f8ff;}#sk-container-id-1 div.sk-toggleable__content pre {margin: 0.2em;color: black;border-radius: 0.25em;background-color: #f0f8ff;}#sk-container-id-1 input.sk-toggleable__control:checked~div.sk-toggleable__content {max-height: 200px;max-width: 100%;overflow: auto;}#sk-container-id-1 input.sk-toggleable__control:checked~label.sk-toggleable__label-arrow:before {content: \"▾\";}#sk-container-id-1 div.sk-estimator input.sk-toggleable__control:checked~label.sk-toggleable__label {background-color: #d4ebff;}#sk-container-id-1 div.sk-label input.sk-toggleable__control:checked~label.sk-toggleable__label {background-color: #d4ebff;}#sk-container-id-1 input.sk-hidden--visually {border: 0;clip: rect(1px 1px 1px 1px);clip: rect(1px, 1px, 1px, 1px);height: 1px;margin: -1px;overflow: hidden;padding: 0;position: absolute;width: 1px;}#sk-container-id-1 div.sk-estimator {font-family: monospace;background-color: #f0f8ff;border: 1px dotted black;border-radius: 0.25em;box-sizing: border-box;margin-bottom: 0.5em;}#sk-container-id-1 div.sk-estimator:hover {background-color: #d4ebff;}#sk-container-id-1 div.sk-parallel-item::after {content: \"\";width: 100%;border-bottom: 1px solid gray;flex-grow: 1;}#sk-container-id-1 div.sk-label:hover label.sk-toggleable__label {background-color: #d4ebff;}#sk-container-id-1 div.sk-serial::before {content: \"\";position: absolute;border-left: 1px solid gray;box-sizing: border-box;top: 0;bottom: 0;left: 50%;z-index: 0;}#sk-container-id-1 div.sk-serial {display: flex;flex-direction: column;align-items: center;background-color: white;padding-right: 0.2em;padding-left: 0.2em;position: relative;}#sk-container-id-1 div.sk-item {position: relative;z-index: 1;}#sk-container-id-1 div.sk-parallel {display: flex;align-items: stretch;justify-content: center;background-color: white;position: relative;}#sk-container-id-1 div.sk-item::before, #sk-container-id-1 div.sk-parallel-item::before {content: \"\";position: absolute;border-left: 1px solid gray;box-sizing: border-box;top: 0;bottom: 0;left: 50%;z-index: -1;}#sk-container-id-1 div.sk-parallel-item {display: flex;flex-direction: column;z-index: 1;position: relative;background-color: white;}#sk-container-id-1 div.sk-parallel-item:first-child::after {align-self: flex-end;width: 50%;}#sk-container-id-1 div.sk-parallel-item:last-child::after {align-self: flex-start;width: 50%;}#sk-container-id-1 div.sk-parallel-item:only-child::after {width: 0;}#sk-container-id-1 div.sk-dashed-wrapped {border: 1px dashed gray;margin: 0 0.4em 0.5em 0.4em;box-sizing: border-box;padding-bottom: 0.4em;background-color: white;}#sk-container-id-1 div.sk-label label {font-family: monospace;font-weight: bold;display: inline-block;line-height: 1.2em;}#sk-container-id-1 div.sk-label-container {text-align: center;}#sk-container-id-1 div.sk-container {/* jupyter's `normalize.less` sets `[hidden] { display: none; }` but bootstrap.min.css set `[hidden] { display: none !important; }` so we also need the `!important` here to be able to override the default hidden behavior on the sphinx rendered scikit-learn.org. See: https://github.com/scikit-learn/scikit-learn/issues/21755 */display: inline-block !important;position: relative;}#sk-container-id-1 div.sk-text-repr-fallback {display: none;}</style><div id=\"sk-container-id-1\" class=\"sk-top-container\"><div class=\"sk-text-repr-fallback\"><pre>MultinomialNB()</pre><b>In a Jupyter environment, please rerun this cell to show the HTML representation or trust the notebook. <br />On GitHub, the HTML representation is unable to render, please try loading this page with nbviewer.org.</b></div><div class=\"sk-container\" hidden><div class=\"sk-item\"><div class=\"sk-estimator sk-toggleable\"><input class=\"sk-toggleable__control sk-hidden--visually\" id=\"sk-estimator-id-1\" type=\"checkbox\" checked><label for=\"sk-estimator-id-1\" class=\"sk-toggleable__label sk-toggleable__label-arrow\">MultinomialNB</label><div class=\"sk-toggleable__content\"><pre>MultinomialNB()</pre></div></div></div></div></div>"
      ],
      "text/plain": [
       "MultinomialNB()"
      ]
     },
     "execution_count": 35,
     "metadata": {},
     "output_type": "execute_result"
    }
   ],
   "source": [
    "%%time\n",
    "mnb_model=MultinomialNB()\n",
    "mnb_model.fit(x_train,y_train)"
   ]
  },
  {
   "cell_type": "code",
   "execution_count": 36,
   "id": "51535c69-82e2-49fa-8fb3-4c8f2f411b74",
   "metadata": {},
   "outputs": [
    {
     "name": "stdout",
     "output_type": "stream",
     "text": [
      "Test accuracy is  0.619\n",
      "Wall time: 168 ms\n"
     ]
    }
   ],
   "source": [
    "%%time\n",
    "y_pred_test=mnb_model.predict(x_test)\n",
    "test_acc=accuracy_score(y_test,y_pred_test)\n",
    "print('Test accuracy is ',test_acc)"
   ]
  },
  {
   "cell_type": "code",
   "execution_count": 37,
   "id": "38871525-fbb1-403d-bd3b-96da01a47542",
   "metadata": {},
   "outputs": [
    {
     "name": "stdout",
     "output_type": "stream",
     "text": [
      "Train accuracy is  0.6491\n",
      "Wall time: 677 ms\n"
     ]
    }
   ],
   "source": [
    "%%time\n",
    "y_pred_train=mnb_model.predict(x_train)\n",
    "train_acc=accuracy_score(y_train,y_pred_train)\n",
    "print('Train accuracy is ',train_acc)"
   ]
  },
  {
   "cell_type": "code",
   "execution_count": 38,
   "id": "8254b973-30bc-41ce-bab4-dd947e6b8965",
   "metadata": {},
   "outputs": [
    {
     "name": "stdout",
     "output_type": "stream",
     "text": [
      "Variance is  3.0100000000000016\n",
      "Bias is  30.089999999999996\n"
     ]
    }
   ],
   "source": [
    "print('Variance is ',(train_acc-test_acc)*100)\n",
    "print('Bias is ',(0.95-train_acc)*100)"
   ]
  },
  {
   "cell_type": "markdown",
   "id": "43024d4b-6641-4848-b78f-52b02fb9fe75",
   "metadata": {},
   "source": [
    "# SVM"
   ]
  },
  {
   "cell_type": "code",
   "execution_count": 39,
   "id": "b39e564d-b2e5-4425-86a3-4b411af443e7",
   "metadata": {},
   "outputs": [
    {
     "name": "stdout",
     "output_type": "stream",
     "text": [
      "Wall time: 45min 11s\n"
     ]
    },
    {
     "data": {
      "text/html": [
       "<style>#sk-container-id-2 {color: black;background-color: white;}#sk-container-id-2 pre{padding: 0;}#sk-container-id-2 div.sk-toggleable {background-color: white;}#sk-container-id-2 label.sk-toggleable__label {cursor: pointer;display: block;width: 100%;margin-bottom: 0;padding: 0.3em;box-sizing: border-box;text-align: center;}#sk-container-id-2 label.sk-toggleable__label-arrow:before {content: \"▸\";float: left;margin-right: 0.25em;color: #696969;}#sk-container-id-2 label.sk-toggleable__label-arrow:hover:before {color: black;}#sk-container-id-2 div.sk-estimator:hover label.sk-toggleable__label-arrow:before {color: black;}#sk-container-id-2 div.sk-toggleable__content {max-height: 0;max-width: 0;overflow: hidden;text-align: left;background-color: #f0f8ff;}#sk-container-id-2 div.sk-toggleable__content pre {margin: 0.2em;color: black;border-radius: 0.25em;background-color: #f0f8ff;}#sk-container-id-2 input.sk-toggleable__control:checked~div.sk-toggleable__content {max-height: 200px;max-width: 100%;overflow: auto;}#sk-container-id-2 input.sk-toggleable__control:checked~label.sk-toggleable__label-arrow:before {content: \"▾\";}#sk-container-id-2 div.sk-estimator input.sk-toggleable__control:checked~label.sk-toggleable__label {background-color: #d4ebff;}#sk-container-id-2 div.sk-label input.sk-toggleable__control:checked~label.sk-toggleable__label {background-color: #d4ebff;}#sk-container-id-2 input.sk-hidden--visually {border: 0;clip: rect(1px 1px 1px 1px);clip: rect(1px, 1px, 1px, 1px);height: 1px;margin: -1px;overflow: hidden;padding: 0;position: absolute;width: 1px;}#sk-container-id-2 div.sk-estimator {font-family: monospace;background-color: #f0f8ff;border: 1px dotted black;border-radius: 0.25em;box-sizing: border-box;margin-bottom: 0.5em;}#sk-container-id-2 div.sk-estimator:hover {background-color: #d4ebff;}#sk-container-id-2 div.sk-parallel-item::after {content: \"\";width: 100%;border-bottom: 1px solid gray;flex-grow: 1;}#sk-container-id-2 div.sk-label:hover label.sk-toggleable__label {background-color: #d4ebff;}#sk-container-id-2 div.sk-serial::before {content: \"\";position: absolute;border-left: 1px solid gray;box-sizing: border-box;top: 0;bottom: 0;left: 50%;z-index: 0;}#sk-container-id-2 div.sk-serial {display: flex;flex-direction: column;align-items: center;background-color: white;padding-right: 0.2em;padding-left: 0.2em;position: relative;}#sk-container-id-2 div.sk-item {position: relative;z-index: 1;}#sk-container-id-2 div.sk-parallel {display: flex;align-items: stretch;justify-content: center;background-color: white;position: relative;}#sk-container-id-2 div.sk-item::before, #sk-container-id-2 div.sk-parallel-item::before {content: \"\";position: absolute;border-left: 1px solid gray;box-sizing: border-box;top: 0;bottom: 0;left: 50%;z-index: -1;}#sk-container-id-2 div.sk-parallel-item {display: flex;flex-direction: column;z-index: 1;position: relative;background-color: white;}#sk-container-id-2 div.sk-parallel-item:first-child::after {align-self: flex-end;width: 50%;}#sk-container-id-2 div.sk-parallel-item:last-child::after {align-self: flex-start;width: 50%;}#sk-container-id-2 div.sk-parallel-item:only-child::after {width: 0;}#sk-container-id-2 div.sk-dashed-wrapped {border: 1px dashed gray;margin: 0 0.4em 0.5em 0.4em;box-sizing: border-box;padding-bottom: 0.4em;background-color: white;}#sk-container-id-2 div.sk-label label {font-family: monospace;font-weight: bold;display: inline-block;line-height: 1.2em;}#sk-container-id-2 div.sk-label-container {text-align: center;}#sk-container-id-2 div.sk-container {/* jupyter's `normalize.less` sets `[hidden] { display: none; }` but bootstrap.min.css set `[hidden] { display: none !important; }` so we also need the `!important` here to be able to override the default hidden behavior on the sphinx rendered scikit-learn.org. See: https://github.com/scikit-learn/scikit-learn/issues/21755 */display: inline-block !important;position: relative;}#sk-container-id-2 div.sk-text-repr-fallback {display: none;}</style><div id=\"sk-container-id-2\" class=\"sk-top-container\"><div class=\"sk-text-repr-fallback\"><pre>SVC()</pre><b>In a Jupyter environment, please rerun this cell to show the HTML representation or trust the notebook. <br />On GitHub, the HTML representation is unable to render, please try loading this page with nbviewer.org.</b></div><div class=\"sk-container\" hidden><div class=\"sk-item\"><div class=\"sk-estimator sk-toggleable\"><input class=\"sk-toggleable__control sk-hidden--visually\" id=\"sk-estimator-id-2\" type=\"checkbox\" checked><label for=\"sk-estimator-id-2\" class=\"sk-toggleable__label sk-toggleable__label-arrow\">SVC</label><div class=\"sk-toggleable__content\"><pre>SVC()</pre></div></div></div></div></div>"
      ],
      "text/plain": [
       "SVC()"
      ]
     },
     "execution_count": 39,
     "metadata": {},
     "output_type": "execute_result"
    }
   ],
   "source": [
    "%%time\n",
    "svc_model=SVC()\n",
    "svc_model.fit(x_train,y_train)"
   ]
  },
  {
   "cell_type": "code",
   "execution_count": 40,
   "id": "82c8666e-5c49-4cf0-9938-015b09c09c31",
   "metadata": {},
   "outputs": [
    {
     "name": "stdout",
     "output_type": "stream",
     "text": [
      "Test accuracy is  0.8114\n",
      "Wall time: 8min 37s\n"
     ]
    }
   ],
   "source": [
    "%%time\n",
    "y_pred_test=svc_model.predict(x_test)\n",
    "test_acc=accuracy_score(y_test,y_pred_test)\n",
    "print('Test accuracy is ',test_acc)"
   ]
  },
  {
   "cell_type": "code",
   "execution_count": 41,
   "id": "071f7d21-d04b-4b74-b05c-432356355077",
   "metadata": {},
   "outputs": [
    {
     "name": "stdout",
     "output_type": "stream",
     "text": [
      "Train accuracy is  0.8604\n",
      "Wall time: 25min 3s\n"
     ]
    }
   ],
   "source": [
    "%%time\n",
    "y_pred_train=svc_model.predict(x_train)\n",
    "train_acc=accuracy_score(y_train,y_pred_train)\n",
    "print('Train accuracy is ',train_acc)"
   ]
  },
  {
   "cell_type": "code",
   "execution_count": 42,
   "id": "0cd7e0dd-600f-4873-94e3-b7d977d1d778",
   "metadata": {},
   "outputs": [
    {
     "name": "stdout",
     "output_type": "stream",
     "text": [
      "Variance is  4.900000000000004\n",
      "Bias is  8.95999999999999\n"
     ]
    }
   ],
   "source": [
    "print('Variance is ',(train_acc-test_acc)*100)\n",
    "print('Bias is ',(0.95-train_acc)*100)"
   ]
  },
  {
   "cell_type": "markdown",
   "id": "d03bdeda-cc32-4d75-87f2-7b308f869ec2",
   "metadata": {},
   "source": [
    "# TfidfVectorizer"
   ]
  },
  {
   "cell_type": "code",
   "execution_count": 43,
   "id": "0f9d0324-95c4-412a-8eaa-c2cbff1cfde3",
   "metadata": {},
   "outputs": [],
   "source": [
    "tf=TfidfVectorizer(lowercase=True,max_df=0.95,stop_words='english',max_features=1000)\n",
    "tf_train=tf.fit_transform(x_final)"
   ]
  },
  {
   "cell_type": "code",
   "execution_count": 44,
   "id": "76ea7d89-758d-439c-bf6d-5523b1412455",
   "metadata": {},
   "outputs": [
    {
     "data": {
      "text/plain": [
       "array([[0., 0., 0., ..., 0., 0., 0.],\n",
       "       [0., 0., 0., ..., 0., 0., 0.],\n",
       "       [0., 0., 0., ..., 0., 0., 0.],\n",
       "       ...,\n",
       "       [0., 0., 0., ..., 0., 0., 0.],\n",
       "       [0., 0., 0., ..., 0., 0., 0.],\n",
       "       [0., 0., 0., ..., 0., 0., 0.]])"
      ]
     },
     "execution_count": 44,
     "metadata": {},
     "output_type": "execute_result"
    }
   ],
   "source": [
    "tf_train.A"
   ]
  },
  {
   "cell_type": "code",
   "execution_count": 45,
   "id": "4c87328b-e5ce-4ba6-9c03-eea0d21a1191",
   "metadata": {},
   "outputs": [
    {
     "name": "stdout",
     "output_type": "stream",
     "text": [
      "['000', '10', '100', '11', '12', '13', '14', '15', '16', '17', '19', '20', '2018', '2019', '2020', '25', '28', '2k', '2ksupport', '30', '360', '365', '50', '500', '60', '70', 'able', 'absolute', 'absolutely', 'ac', 'access', 'account', 'achievement', 'action', 'actual', 'actually', 'ad', 'add', 'added', 'af', 'age', 'ago', 'ai', 'amazing', 'amazon', 'american', 'amzn', 'android', 'angry', 'announcement', 'annoying', 'answer', 'anti', 'anymore', 'apex', 'app', 'apparently', 'apple', 'appreciate', 'apps', 'art', 'article', 'artist', 'ask', 'assassin', 'assassinscreed', 'attack', 'audio', 'available', 'away', 'awesome', 'baby', 'bad', 'ball', 'ban', 'banned', 'based', 'basic', 'basically', 'battle', 'battlefield', 'bc', 'beat', 'beautiful', 'believe', 'beluba', 'best', 'beta', 'better', 'bf4db', 'big', 'biggest', 'birthday', 'bit', 'bitch', 'black', 'blizzard', 'blizzard_ent', 'blog', 'bloody', 'blue', 'book', 'border', 'borderland', 'boring', 'bot', 'bought', 'box', 'boy', 'brain', 'brand', 'break', 'bring', 'bro', 'broke', 'broken', 'brother', 'brought', 'bruh', 'buff', 'bug', 'bullshit', 'business', 'buy', 'buying', 'ca', 'called', 'callofduty', 'came', 'campaign', 'car', 'card', 'care', 'case', 'casey', 'cause', 'certainly', 'challenge', 'champion', 'chance', 'change', 'changed', 'channel', 'chapter', 'character', 'chat', 'cheat', 'cheating', 'check', 'child', 'chill', 'claim', 'class', 'classic', 'clearly', 'click', 'clip', 'clips', 'close', 'cloud', 'cod', 'code', 'cold', 'collection', 'color', 'com', 'come', 'coming', 'comment', 'commission', 'community', 'comp', 'company', 'competitive', 'complete', 'completely', 'computer', 'congratulation', 'console', 'content', 'continue', 'control', 'controller', 'cool', 'copy', 'coronavirus', 'cost', 'couple', 'course', 'cover', 'covid', 'crap', 'crash', 'crazy', 'created', 'credit', 'creed', 'crime', 'cross', 'csgo', 'current', 'currently', 'customer', 'cut', 'cute', 'cuz', 'daily', 'damage', 'damn', 'dark', 'data', 'date', 'day', 'dead', 'deal', 'dear', 'death', 'decent', 'decided', 'decision', 'deck', 'definitely', 'delay', 'delivery', 'demon', 'design', 'despite', 'developer', 'device', 'devs', 'dick', 'die', 'died', 'difference', 'different', 'digital', 'dirty', 'disappointed', 'dlc', 'dlvr', 'dog', 'dollar', 'dont', 'dope', 'dota', 'dota2', 'double', 'download', 'dp', 'dragon', 'dream', 'drive', 'drop', 'dude', 'dumb', 'duo', 'duty', 'dying', 'ea', 'early', 'earned', 'easy', 'edge', 'edition', 'email', 'empire', 'employee', 'en', 'end', 'enjoy', 'enjoyed', 'enjoying', 'enter', 'entering', 'entire', 'epic', 'episode', 'error', 'especially', 'esports', 'eu', 'event', 'everyday', 'evil', 'exactly', 'excellent', 'excited', 'exciting', 'exclusive', 'expansion', 'expect', 'expensive', 'experience', 'explain', 'extra', 'extremely', 'face', 'facebook', 'fact', 'fake', 'fall', 'family', 'fan', 'fang', 'fantastic', 'fantasy', 'far', 'fast', 'favorite', 'favourite', 'feature', 'feel', 'feeling', 'felt', 'fight', 'file', 'film', 'final', 'finally', 'fine', 'finish', 'finished', 'fix', 'flag', 'folk', 'follow', 'force', 'forever', 'forget', 'forgot', 'fortnite', 'fortnitegame', 'forward', 'fps', 'franchise', 'freaking', 'free', 'fresh', 'friend', 'fuck', 'fucked', 'fuckin', 'fucking', 'fully', 'fun', 'funny', 'future', 'game', 'gameplay', 'gamer', 'gamers', 'gaming', 'garbage', 'gave', 'gay', 'gearboxofficial', 'gen', 'generation', 'getting', 'gg', 'gift', 'girl', 'giveaway', 'given', 'giving', 'glad', 'global', 'god', 'goddamn', 'going', 'gold', 'golden', 'gon', 'gone', 'good', 'google', 'got', 'grand', 'graphic', 'grateful', 'great', 'greatest', 'grind', 'group', 'guess', 'gun', 'guy', 'hacker', 'hair', 'half', 'halo', 'hand', 'hang', 'happen', 'happened', 'happening', 'happens', 'happy', 'hard', 'hate', 'head', 'health', 'hear', 'heard', 'heart', 'hearthstone', 'hell', 'hello', 'help', 'helping', 'hero', 'hey', 'hi', 'high', 'history', 'hit', 'hold', 'holy', 'home', 'honestly', 'hope', 'horrible', 'horrific', 'hot', 'hour', 'house', 'http', 'huge', 'human', 'hunter', 'hype', 'hyped', 'id', 'idea', 'idk', 'ift', 'iii', 'im', 'image', 'imagine', 'important', 'impressed', 'including', 'incredible', 'incredibly', 'info', 'information', 'insane', 'inside', 'instead', 'interesting', 'internet', 'io', 'iphone', 'issue', 'italy', 'item', 'ive', 'job', 'join', 'joke', 'jump', 'key', 'kid', 'kill', 'killed', 'killing', 'kind', 'kinda', 'king', 'know', 'knowing', 'lady', 'lag', 'late', 'lately', 'later', 'latest', 'laugh', 'launch', 'le', 'league', 'leagueoflegends', 'leak', 'leaked', 'learn', 'learning', 'leave', 'left', 'legend', 'legendary', 'let', 'level', 'li', 'lie', 'life', 'light', 'like', 'liked', 'line', 'link', 'list', 'listen', 'lit', 'literally', 'little', 'live', 'living', 'll', 'lmao', 'log', 'lol', 'long', 'longer', 'look', 'looked', 'looking', 'loot', 'lose', 'losing', 'loss', 'lost', 'lot', 'love', 'loved', 'lovely', 'loving', 'low', 'luck', 'lucky', 'ly', 'mad', 'magic', 'main', 'major', 'make', 'making', 'man', 'map', 'market', 'mask', 'massive', 'master', 'match', 'matter', 'maybe', 'mean', 'medium', 'meet', 'memory', 'men', 'mention', 'message', 'meta', 'mf', 'microsoft', 'million', 'min', 'mind', 'minecraft', 'minute', 'miss', 'missing', 'mission', 'mistake', 'mixer', 'mobile', 'mode', 'model', 'modern', 'moment', 'money', 'month', 'morning', 'movement', 'movie', 'multiplayer', 'music', 'myteam', 'n2k', 'na', 'nba', 'nba2k', 'nba2k_myteam', 'nearly', 'need', 'needed', 'net', 'netflix', 'new', 'news', 'nice', 'nigga', 'night', 'nintendo', 'note', 'nr', 'number', 'obviously', 'occurred', 'odyssey', 'offer', 'office', 'official', 'og', 'oh', 'ok', 'okay', 'old', 'omg', 'online', 'open', 'opinion', 'ops', 'option', 'order', 'ordered', 'org', 'origin', 'original', 'overwatch', 'ow', 'pa', 'pack', 'package', 'page', 'paid', 'pain', 'pandemic', 'paper', 'park', 'partner', 'party', 'pas', 'past', 'patch', 'pay', 'pc', 'people', 'perfect', 'performance', 'person', 'phone', 'photo', 'pic', 'pick', 'picture', 'piece', 'place', 'plan', 'platform', 'play', 'playapex', 'played', 'player', 'playhearthstone', 'playing', 'playoverwatch', 'playstation', 'pls', 'plus', 'plz', 'point', 'pokemon', 'police', 'poor', 'popular', 'possible', 'post', 'posted', 'poverty', 'power', 'powerful', 'ppl', 'pre', 'press', 'pretty', 'price', 'priest', 'prime', 'pro', 'probably', 'problem', 'product', 'project', 'proud', 'ps4', 'ps5', 'punch', 'quality', 'queen', 'quest', 'question', 'quick', 'quickly', 'quit', 'quite', 'quiz', 'racist', 'raid', 'random', 'rank', 'ranked', 'ranking', 'rate', 'read', 'reading', 'ready', 'real', 'realize', 'really', 'reason', 'received', 'recently', 'red', 'redd', 'reforged', 'release', 'released', 'remember', 'report', 'respawn', 'respect', 'response', 'rest', 'result', 'retweet', 'reveal', 'review', 'reward', 'rhandlerr', 'ridiculous', 'right', 'riotgames', 'rip', 'rn', 'rock', 'rogue', 'ronnie2k', 'room', 'round', 'row', 'rt', 'run', 'running', 'sad', 'said', 'sale', 'save', 'saw', 'say', 'saying', 'scam', 'scene', 'school', 'screen', 'sea', 'search', 'season', 'second', 'secret', 'security', 'seeing', 'seen', 'self', 'sell', 'selling', 'sense', 'series', 'seriously', 'server', 'service', 'set', 'setting', 'shame', 'share', 'shit', 'shitty', 'shoot', 'shooting', 'short', 'shot', 'shout', 'shoutout', 'showing', 'shut', 'sick', 'sign', 'simple', 'simply', 'single', 'sit', 'site', 'skill', 'skin', 'sleep', 'small', 'smart', 'smh', 'social', 'software', 'sold', 'song', 'sony', 'soon', 'sorry', 'soul', 'sound', 'source', 'space', 'special', 'speed', 'spend', 'spent', 'sport', 'spread', 'squad', 'standard', 'star', 'start', 'started', 'starting', 'state', 'status', 'stay', 'steam', 'step', 'stop', 'store', 'story', 'straight', 'stream', 'streamer', 'streaming', 'strong', 'stuck', 'student', 'stuff', 'stupid', 'sub', 'suck', 'summoners', 'super', 'support', 'sure', 'surface', 'surprise', 'sweet', 'switch', 'ta', 'taken', 'taking', 'talk', 'talking', 'tbh', 'tch', 'team', 'teammate', 'tech', 'technology', 'tell', 'terrible', 'thank', 'thanks', 'thats', 'thing', 'think', 'thinking', 'tho', 'thought', 'throw', 'tiktok', 'till', 'time', 'tired', 'title', 'today', 'told', 'tomorrow', 'ton', 'tonight', 'took', 'total', 'totally', 'tournament', 'toxic', 'trailer', 'trash', 'treyarch', 'tried', 'trouble', 'true', 'truly', 'trump', 'trust', 'try', 'trying', 'tt', 'tune', 'turn', 'turned', 'tv', 'tweet', 'twitch', 'twitter', 'type', 'ubisoft', 'ugly', 'uk', 'ultimate', 'understand', 'unit', 'unk', 'unless', 'update', 'ur', 'use', 'used', 'user', 'using', 'usually', 'valhalla', 'valorant', 'valve', 'vc', 've', 'version', 'vibe', 'video', 'view', 'viewer', 'vision', 'visit', 'voice', 'wait', 'waiting', 'wall', 'wan', 'want', 'wanted', 'war', 'warcraft', 'warfare', 'warzone', 'watch', 'watched', 'watching', 'way', 'weapon', 'web', 'website', 'week', 'weekend', 'weird', 'welcome', 'went', 'white', 'wife', 'wikipedia', 'wild', 'win', 'window', 'winner', 'winning', 'wish', 'wn', 'wo', 'woman', 'wonder', 'wonderful', 'word', 'work', 'worked', 'worker', 'working', 'world', 'worse', 'worst', 'worth', 'wow', 'writing', 'wrong', 'wtf', 'www', 'xbox', 'xd', 'ya', 'yall', 'yeah', 'year', 'yes', 'yesterday', 'yo', 'young', 'youtu', 'youtube', 'yu', 'zero', 'zombie', 'яй']\n"
     ]
    },
    {
     "name": "stderr",
     "output_type": "stream",
     "text": [
      "C:\\Users\\Omkar\\anaconda3\\lib\\site-packages\\sklearn\\utils\\deprecation.py:87: FutureWarning: Function get_feature_names is deprecated; get_feature_names is deprecated in 1.0 and will be removed in 1.2. Please use get_feature_names_out instead.\n",
      "  warnings.warn(msg, category=FutureWarning)\n"
     ]
    }
   ],
   "source": [
    "print(tf.get_feature_names())"
   ]
  },
  {
   "cell_type": "code",
   "execution_count": 46,
   "id": "7cfeb6c6-da4e-47c4-98c3-b5411ffa9e07",
   "metadata": {},
   "outputs": [
    {
     "name": "stdout",
     "output_type": "stream",
     "text": [
      "frozenset({'became', 'about', 'you', 're', 'himself', 'down', 'up', 'keep', 'before', 'yours', 'someone', 'yourselves', 'cant', 'nor', 'how', 'also', 'mine', 'some', 'in', 'thence', 'have', 'is', 'whereas', 'seemed', 'not', 'interest', 'out', 'its', 'whoever', 'ten', 'your', 'former', 'show', 'either', 'will', 'part', 'beforehand', 'once', 'seeming', 'un', 'something', 'sometimes', 'thru', 'it', 'toward', 'somehow', 'because', 'become', 'top', 'through', 'herein', 'myself', 'enough', 'beyond', 'hence', 'yourself', 'her', 'ltd', 'him', 'per', 'six', 'sixty', 'always', 'we', 'everywhere', 'with', 'them', 'a', 'everything', 'further', 'made', 'get', 'or', 'whenever', 'am', 'noone', 'rather', 'whence', 'first', 'front', 'side', 'throughout', 'whose', 'system', 'otherwise', 'being', 'back', 'well', 'their', 'eleven', 'empty', 'amount', 'towards', 'beside', 'bottom', 'thereafter', 'ourselves', 'inc', 'thick', 'on', 'fifteen', 'none', 'any', 'amongst', 'many', 'therein', 'both', 'at', 'becomes', 'should', 'behind', 'four', 'only', 'serious', 'whereupon', 'this', 'wherein', 'three', 'formerly', 'found', 'latterly', 'together', 'off', 'what', 'anything', 'describe', 'yet', 'less', 'whole', 'here', 'twelve', 'his', 'meanwhile', 'third', 'besides', 'cannot', 'though', 'themselves', 'thin', 'due', 'from', 'around', 'such', 'onto', 'sincere', 'an', 'across', 'via', 'were', 'therefore', 'had', 'put', 'much', 'do', 'whether', 'those', 'whom', 'eight', 'again', 'however', 'whereby', 'no', 'and', 'but', 'itself', 'bill', 'de', 'must', 'she', 'hasnt', 'several', 'seem', 'anyone', 'etc', 'all', 'upon', 'detail', 'go', 'two', 'name', 'so', 'by', 'anywhere', 'that', 'then', 'than', 'me', 'for', 'fire', 'thereby', 'couldnt', 'give', 'whither', 'even', 'if', 'without', 'would', 'until', 'over', 'somewhere', 'nothing', 'already', 'take', 'which', 'twenty', 'why', 'same', 'seems', 'becoming', 'whatever', 'was', 'these', 'above', 'thereupon', 'moreover', 'ie', 'hers', 'our', 'can', 'hereafter', 'other', 'co', 'nine', 'thus', 'nevertheless', 'more', 'herself', 'are', 'when', 'own', 'indeed', 'done', 'alone', 'along', 'my', 'i', 'under', 'nowhere', 'every', 'please', 'latter', 'they', 'another', 'neither', 'between', 'find', 'elsewhere', 'wherever', 'most', 'been', 'namely', 'never', 'still', 'us', 'often', 'last', 'who', 'could', 'ours', 'anyway', 'full', 'of', 'con', 'very', 'within', 'hereby', 'next', 'below', 'least', 'afterwards', 'as', 'each', 'eg', 'be', 'during', 'nobody', 'among', 'since', 'mill', 'everyone', 'one', 'cry', 'forty', 'call', 'perhaps', 'fill', 'hundred', 'ever', 'while', 'although', 'see', 'sometime', 'after', 'now', 'few', 'where', 'into', 'move', 'has', 'he', 'hereupon', 'to', 'fifty', 'five', 'against', 'may', 'too', 'might', 'amoungst', 'mostly', 'the', 'others', 'anyhow', 'except', 'there', 'whereafter', 'else', 'almost'})\n"
     ]
    }
   ],
   "source": [
    "print(tf.get_stop_words())"
   ]
  },
  {
   "cell_type": "code",
   "execution_count": 47,
   "id": "c9a5d0d0-a0cb-4f9e-a6d9-fb150099781a",
   "metadata": {},
   "outputs": [
    {
     "data": {
      "text/html": [
       "<div>\n",
       "<style scoped>\n",
       "    .dataframe tbody tr th:only-of-type {\n",
       "        vertical-align: middle;\n",
       "    }\n",
       "\n",
       "    .dataframe tbody tr th {\n",
       "        vertical-align: top;\n",
       "    }\n",
       "\n",
       "    .dataframe thead th {\n",
       "        text-align: right;\n",
       "    }\n",
       "</style>\n",
       "<table border=\"1\" class=\"dataframe\">\n",
       "  <thead>\n",
       "    <tr style=\"text-align: right;\">\n",
       "      <th></th>\n",
       "      <th>000</th>\n",
       "      <th>10</th>\n",
       "      <th>100</th>\n",
       "      <th>11</th>\n",
       "      <th>12</th>\n",
       "      <th>13</th>\n",
       "      <th>14</th>\n",
       "      <th>15</th>\n",
       "      <th>16</th>\n",
       "      <th>17</th>\n",
       "      <th>...</th>\n",
       "      <th>yes</th>\n",
       "      <th>yesterday</th>\n",
       "      <th>yo</th>\n",
       "      <th>young</th>\n",
       "      <th>youtu</th>\n",
       "      <th>youtube</th>\n",
       "      <th>yu</th>\n",
       "      <th>zero</th>\n",
       "      <th>zombie</th>\n",
       "      <th>яй</th>\n",
       "    </tr>\n",
       "  </thead>\n",
       "  <tbody>\n",
       "    <tr>\n",
       "      <th>0</th>\n",
       "      <td>0.0</td>\n",
       "      <td>0.0</td>\n",
       "      <td>0.0</td>\n",
       "      <td>0.0</td>\n",
       "      <td>0.0</td>\n",
       "      <td>0.0</td>\n",
       "      <td>0.0</td>\n",
       "      <td>0.0</td>\n",
       "      <td>0.0</td>\n",
       "      <td>0.0</td>\n",
       "      <td>...</td>\n",
       "      <td>0.0</td>\n",
       "      <td>0.0</td>\n",
       "      <td>0.0</td>\n",
       "      <td>0.0</td>\n",
       "      <td>0.0</td>\n",
       "      <td>0.0</td>\n",
       "      <td>0.0</td>\n",
       "      <td>0.0</td>\n",
       "      <td>0.0</td>\n",
       "      <td>0.0</td>\n",
       "    </tr>\n",
       "    <tr>\n",
       "      <th>1</th>\n",
       "      <td>0.0</td>\n",
       "      <td>0.0</td>\n",
       "      <td>0.0</td>\n",
       "      <td>0.0</td>\n",
       "      <td>0.0</td>\n",
       "      <td>0.0</td>\n",
       "      <td>0.0</td>\n",
       "      <td>0.0</td>\n",
       "      <td>0.0</td>\n",
       "      <td>0.0</td>\n",
       "      <td>...</td>\n",
       "      <td>0.0</td>\n",
       "      <td>0.0</td>\n",
       "      <td>0.0</td>\n",
       "      <td>0.0</td>\n",
       "      <td>0.0</td>\n",
       "      <td>0.0</td>\n",
       "      <td>0.0</td>\n",
       "      <td>0.0</td>\n",
       "      <td>0.0</td>\n",
       "      <td>0.0</td>\n",
       "    </tr>\n",
       "    <tr>\n",
       "      <th>2</th>\n",
       "      <td>0.0</td>\n",
       "      <td>0.0</td>\n",
       "      <td>0.0</td>\n",
       "      <td>0.0</td>\n",
       "      <td>0.0</td>\n",
       "      <td>0.0</td>\n",
       "      <td>0.0</td>\n",
       "      <td>0.0</td>\n",
       "      <td>0.0</td>\n",
       "      <td>0.0</td>\n",
       "      <td>...</td>\n",
       "      <td>0.0</td>\n",
       "      <td>0.0</td>\n",
       "      <td>0.0</td>\n",
       "      <td>0.0</td>\n",
       "      <td>0.0</td>\n",
       "      <td>0.0</td>\n",
       "      <td>0.0</td>\n",
       "      <td>0.0</td>\n",
       "      <td>0.0</td>\n",
       "      <td>0.0</td>\n",
       "    </tr>\n",
       "    <tr>\n",
       "      <th>3</th>\n",
       "      <td>0.0</td>\n",
       "      <td>0.0</td>\n",
       "      <td>0.0</td>\n",
       "      <td>0.0</td>\n",
       "      <td>0.0</td>\n",
       "      <td>0.0</td>\n",
       "      <td>0.0</td>\n",
       "      <td>0.0</td>\n",
       "      <td>0.0</td>\n",
       "      <td>0.0</td>\n",
       "      <td>...</td>\n",
       "      <td>0.0</td>\n",
       "      <td>0.0</td>\n",
       "      <td>0.0</td>\n",
       "      <td>0.0</td>\n",
       "      <td>0.0</td>\n",
       "      <td>0.0</td>\n",
       "      <td>0.0</td>\n",
       "      <td>0.0</td>\n",
       "      <td>0.0</td>\n",
       "      <td>0.0</td>\n",
       "    </tr>\n",
       "    <tr>\n",
       "      <th>4</th>\n",
       "      <td>0.0</td>\n",
       "      <td>0.0</td>\n",
       "      <td>0.0</td>\n",
       "      <td>0.0</td>\n",
       "      <td>0.0</td>\n",
       "      <td>0.0</td>\n",
       "      <td>0.0</td>\n",
       "      <td>0.0</td>\n",
       "      <td>0.0</td>\n",
       "      <td>0.0</td>\n",
       "      <td>...</td>\n",
       "      <td>0.0</td>\n",
       "      <td>0.0</td>\n",
       "      <td>0.0</td>\n",
       "      <td>0.0</td>\n",
       "      <td>0.0</td>\n",
       "      <td>0.0</td>\n",
       "      <td>0.0</td>\n",
       "      <td>0.0</td>\n",
       "      <td>0.0</td>\n",
       "      <td>0.0</td>\n",
       "    </tr>\n",
       "    <tr>\n",
       "      <th>...</th>\n",
       "      <td>...</td>\n",
       "      <td>...</td>\n",
       "      <td>...</td>\n",
       "      <td>...</td>\n",
       "      <td>...</td>\n",
       "      <td>...</td>\n",
       "      <td>...</td>\n",
       "      <td>...</td>\n",
       "      <td>...</td>\n",
       "      <td>...</td>\n",
       "      <td>...</td>\n",
       "      <td>...</td>\n",
       "      <td>...</td>\n",
       "      <td>...</td>\n",
       "      <td>...</td>\n",
       "      <td>...</td>\n",
       "      <td>...</td>\n",
       "      <td>...</td>\n",
       "      <td>...</td>\n",
       "      <td>...</td>\n",
       "      <td>...</td>\n",
       "    </tr>\n",
       "    <tr>\n",
       "      <th>39995</th>\n",
       "      <td>0.0</td>\n",
       "      <td>0.0</td>\n",
       "      <td>0.0</td>\n",
       "      <td>0.0</td>\n",
       "      <td>0.0</td>\n",
       "      <td>0.0</td>\n",
       "      <td>0.0</td>\n",
       "      <td>0.0</td>\n",
       "      <td>0.0</td>\n",
       "      <td>0.0</td>\n",
       "      <td>...</td>\n",
       "      <td>0.0</td>\n",
       "      <td>0.0</td>\n",
       "      <td>0.0</td>\n",
       "      <td>0.0</td>\n",
       "      <td>0.0</td>\n",
       "      <td>0.0</td>\n",
       "      <td>0.0</td>\n",
       "      <td>0.0</td>\n",
       "      <td>0.0</td>\n",
       "      <td>0.0</td>\n",
       "    </tr>\n",
       "    <tr>\n",
       "      <th>39996</th>\n",
       "      <td>0.0</td>\n",
       "      <td>0.0</td>\n",
       "      <td>0.0</td>\n",
       "      <td>0.0</td>\n",
       "      <td>0.0</td>\n",
       "      <td>0.0</td>\n",
       "      <td>0.0</td>\n",
       "      <td>0.0</td>\n",
       "      <td>0.0</td>\n",
       "      <td>0.0</td>\n",
       "      <td>...</td>\n",
       "      <td>0.0</td>\n",
       "      <td>0.0</td>\n",
       "      <td>0.0</td>\n",
       "      <td>0.0</td>\n",
       "      <td>0.0</td>\n",
       "      <td>0.0</td>\n",
       "      <td>0.0</td>\n",
       "      <td>0.0</td>\n",
       "      <td>0.0</td>\n",
       "      <td>0.0</td>\n",
       "    </tr>\n",
       "    <tr>\n",
       "      <th>39997</th>\n",
       "      <td>0.0</td>\n",
       "      <td>0.0</td>\n",
       "      <td>0.0</td>\n",
       "      <td>0.0</td>\n",
       "      <td>0.0</td>\n",
       "      <td>0.0</td>\n",
       "      <td>0.0</td>\n",
       "      <td>0.0</td>\n",
       "      <td>0.0</td>\n",
       "      <td>0.0</td>\n",
       "      <td>...</td>\n",
       "      <td>0.0</td>\n",
       "      <td>0.0</td>\n",
       "      <td>0.0</td>\n",
       "      <td>0.0</td>\n",
       "      <td>0.0</td>\n",
       "      <td>0.0</td>\n",
       "      <td>0.0</td>\n",
       "      <td>0.0</td>\n",
       "      <td>0.0</td>\n",
       "      <td>0.0</td>\n",
       "    </tr>\n",
       "    <tr>\n",
       "      <th>39998</th>\n",
       "      <td>0.0</td>\n",
       "      <td>0.0</td>\n",
       "      <td>0.0</td>\n",
       "      <td>0.0</td>\n",
       "      <td>0.0</td>\n",
       "      <td>0.0</td>\n",
       "      <td>0.0</td>\n",
       "      <td>0.0</td>\n",
       "      <td>0.0</td>\n",
       "      <td>0.0</td>\n",
       "      <td>...</td>\n",
       "      <td>0.0</td>\n",
       "      <td>0.0</td>\n",
       "      <td>0.0</td>\n",
       "      <td>0.0</td>\n",
       "      <td>0.0</td>\n",
       "      <td>0.0</td>\n",
       "      <td>0.0</td>\n",
       "      <td>0.0</td>\n",
       "      <td>0.0</td>\n",
       "      <td>0.0</td>\n",
       "    </tr>\n",
       "    <tr>\n",
       "      <th>39999</th>\n",
       "      <td>0.0</td>\n",
       "      <td>0.0</td>\n",
       "      <td>0.0</td>\n",
       "      <td>0.0</td>\n",
       "      <td>0.0</td>\n",
       "      <td>0.0</td>\n",
       "      <td>0.0</td>\n",
       "      <td>0.0</td>\n",
       "      <td>0.0</td>\n",
       "      <td>0.0</td>\n",
       "      <td>...</td>\n",
       "      <td>0.0</td>\n",
       "      <td>0.0</td>\n",
       "      <td>0.0</td>\n",
       "      <td>0.0</td>\n",
       "      <td>0.0</td>\n",
       "      <td>0.0</td>\n",
       "      <td>0.0</td>\n",
       "      <td>0.0</td>\n",
       "      <td>0.0</td>\n",
       "      <td>0.0</td>\n",
       "    </tr>\n",
       "  </tbody>\n",
       "</table>\n",
       "<p>40000 rows × 1000 columns</p>\n",
       "</div>"
      ],
      "text/plain": [
       "       000   10  100   11   12   13   14   15   16   17  ...  yes  yesterday  \\\n",
       "0      0.0  0.0  0.0  0.0  0.0  0.0  0.0  0.0  0.0  0.0  ...  0.0        0.0   \n",
       "1      0.0  0.0  0.0  0.0  0.0  0.0  0.0  0.0  0.0  0.0  ...  0.0        0.0   \n",
       "2      0.0  0.0  0.0  0.0  0.0  0.0  0.0  0.0  0.0  0.0  ...  0.0        0.0   \n",
       "3      0.0  0.0  0.0  0.0  0.0  0.0  0.0  0.0  0.0  0.0  ...  0.0        0.0   \n",
       "4      0.0  0.0  0.0  0.0  0.0  0.0  0.0  0.0  0.0  0.0  ...  0.0        0.0   \n",
       "...    ...  ...  ...  ...  ...  ...  ...  ...  ...  ...  ...  ...        ...   \n",
       "39995  0.0  0.0  0.0  0.0  0.0  0.0  0.0  0.0  0.0  0.0  ...  0.0        0.0   \n",
       "39996  0.0  0.0  0.0  0.0  0.0  0.0  0.0  0.0  0.0  0.0  ...  0.0        0.0   \n",
       "39997  0.0  0.0  0.0  0.0  0.0  0.0  0.0  0.0  0.0  0.0  ...  0.0        0.0   \n",
       "39998  0.0  0.0  0.0  0.0  0.0  0.0  0.0  0.0  0.0  0.0  ...  0.0        0.0   \n",
       "39999  0.0  0.0  0.0  0.0  0.0  0.0  0.0  0.0  0.0  0.0  ...  0.0        0.0   \n",
       "\n",
       "        yo  young  youtu  youtube   yu  zero  zombie   яй  \n",
       "0      0.0    0.0    0.0      0.0  0.0   0.0     0.0  0.0  \n",
       "1      0.0    0.0    0.0      0.0  0.0   0.0     0.0  0.0  \n",
       "2      0.0    0.0    0.0      0.0  0.0   0.0     0.0  0.0  \n",
       "3      0.0    0.0    0.0      0.0  0.0   0.0     0.0  0.0  \n",
       "4      0.0    0.0    0.0      0.0  0.0   0.0     0.0  0.0  \n",
       "...    ...    ...    ...      ...  ...   ...     ...  ...  \n",
       "39995  0.0    0.0    0.0      0.0  0.0   0.0     0.0  0.0  \n",
       "39996  0.0    0.0    0.0      0.0  0.0   0.0     0.0  0.0  \n",
       "39997  0.0    0.0    0.0      0.0  0.0   0.0     0.0  0.0  \n",
       "39998  0.0    0.0    0.0      0.0  0.0   0.0     0.0  0.0  \n",
       "39999  0.0    0.0    0.0      0.0  0.0   0.0     0.0  0.0  \n",
       "\n",
       "[40000 rows x 1000 columns]"
      ]
     },
     "execution_count": 47,
     "metadata": {},
     "output_type": "execute_result"
    }
   ],
   "source": [
    "df_tf_train=pd.DataFrame(tf_train.A,columns=tf.get_feature_names())\n",
    "df_tf_train"
   ]
  },
  {
   "cell_type": "code",
   "execution_count": 48,
   "id": "82175307-3d24-4bf3-9aca-da62cde5fe1f",
   "metadata": {},
   "outputs": [],
   "source": [
    "x_train,x_test,y_train,y_test=train_test_split(df_tf_train,y,stratify=y,random_state=13,test_size=0.25)"
   ]
  },
  {
   "cell_type": "markdown",
   "id": "b08eba08-d33b-41df-917f-b67e11cebd79",
   "metadata": {},
   "source": [
    "## Multunomial Naive Bayes"
   ]
  },
  {
   "cell_type": "code",
   "execution_count": 49,
   "id": "b5824898-581d-4e83-8004-7b8578564bdf",
   "metadata": {},
   "outputs": [
    {
     "name": "stdout",
     "output_type": "stream",
     "text": [
      "Wall time: 134 ms\n"
     ]
    },
    {
     "data": {
      "text/html": [
       "<style>#sk-container-id-3 {color: black;background-color: white;}#sk-container-id-3 pre{padding: 0;}#sk-container-id-3 div.sk-toggleable {background-color: white;}#sk-container-id-3 label.sk-toggleable__label {cursor: pointer;display: block;width: 100%;margin-bottom: 0;padding: 0.3em;box-sizing: border-box;text-align: center;}#sk-container-id-3 label.sk-toggleable__label-arrow:before {content: \"▸\";float: left;margin-right: 0.25em;color: #696969;}#sk-container-id-3 label.sk-toggleable__label-arrow:hover:before {color: black;}#sk-container-id-3 div.sk-estimator:hover label.sk-toggleable__label-arrow:before {color: black;}#sk-container-id-3 div.sk-toggleable__content {max-height: 0;max-width: 0;overflow: hidden;text-align: left;background-color: #f0f8ff;}#sk-container-id-3 div.sk-toggleable__content pre {margin: 0.2em;color: black;border-radius: 0.25em;background-color: #f0f8ff;}#sk-container-id-3 input.sk-toggleable__control:checked~div.sk-toggleable__content {max-height: 200px;max-width: 100%;overflow: auto;}#sk-container-id-3 input.sk-toggleable__control:checked~label.sk-toggleable__label-arrow:before {content: \"▾\";}#sk-container-id-3 div.sk-estimator input.sk-toggleable__control:checked~label.sk-toggleable__label {background-color: #d4ebff;}#sk-container-id-3 div.sk-label input.sk-toggleable__control:checked~label.sk-toggleable__label {background-color: #d4ebff;}#sk-container-id-3 input.sk-hidden--visually {border: 0;clip: rect(1px 1px 1px 1px);clip: rect(1px, 1px, 1px, 1px);height: 1px;margin: -1px;overflow: hidden;padding: 0;position: absolute;width: 1px;}#sk-container-id-3 div.sk-estimator {font-family: monospace;background-color: #f0f8ff;border: 1px dotted black;border-radius: 0.25em;box-sizing: border-box;margin-bottom: 0.5em;}#sk-container-id-3 div.sk-estimator:hover {background-color: #d4ebff;}#sk-container-id-3 div.sk-parallel-item::after {content: \"\";width: 100%;border-bottom: 1px solid gray;flex-grow: 1;}#sk-container-id-3 div.sk-label:hover label.sk-toggleable__label {background-color: #d4ebff;}#sk-container-id-3 div.sk-serial::before {content: \"\";position: absolute;border-left: 1px solid gray;box-sizing: border-box;top: 0;bottom: 0;left: 50%;z-index: 0;}#sk-container-id-3 div.sk-serial {display: flex;flex-direction: column;align-items: center;background-color: white;padding-right: 0.2em;padding-left: 0.2em;position: relative;}#sk-container-id-3 div.sk-item {position: relative;z-index: 1;}#sk-container-id-3 div.sk-parallel {display: flex;align-items: stretch;justify-content: center;background-color: white;position: relative;}#sk-container-id-3 div.sk-item::before, #sk-container-id-3 div.sk-parallel-item::before {content: \"\";position: absolute;border-left: 1px solid gray;box-sizing: border-box;top: 0;bottom: 0;left: 50%;z-index: -1;}#sk-container-id-3 div.sk-parallel-item {display: flex;flex-direction: column;z-index: 1;position: relative;background-color: white;}#sk-container-id-3 div.sk-parallel-item:first-child::after {align-self: flex-end;width: 50%;}#sk-container-id-3 div.sk-parallel-item:last-child::after {align-self: flex-start;width: 50%;}#sk-container-id-3 div.sk-parallel-item:only-child::after {width: 0;}#sk-container-id-3 div.sk-dashed-wrapped {border: 1px dashed gray;margin: 0 0.4em 0.5em 0.4em;box-sizing: border-box;padding-bottom: 0.4em;background-color: white;}#sk-container-id-3 div.sk-label label {font-family: monospace;font-weight: bold;display: inline-block;line-height: 1.2em;}#sk-container-id-3 div.sk-label-container {text-align: center;}#sk-container-id-3 div.sk-container {/* jupyter's `normalize.less` sets `[hidden] { display: none; }` but bootstrap.min.css set `[hidden] { display: none !important; }` so we also need the `!important` here to be able to override the default hidden behavior on the sphinx rendered scikit-learn.org. See: https://github.com/scikit-learn/scikit-learn/issues/21755 */display: inline-block !important;position: relative;}#sk-container-id-3 div.sk-text-repr-fallback {display: none;}</style><div id=\"sk-container-id-3\" class=\"sk-top-container\"><div class=\"sk-text-repr-fallback\"><pre>MultinomialNB()</pre><b>In a Jupyter environment, please rerun this cell to show the HTML representation or trust the notebook. <br />On GitHub, the HTML representation is unable to render, please try loading this page with nbviewer.org.</b></div><div class=\"sk-container\" hidden><div class=\"sk-item\"><div class=\"sk-estimator sk-toggleable\"><input class=\"sk-toggleable__control sk-hidden--visually\" id=\"sk-estimator-id-3\" type=\"checkbox\" checked><label for=\"sk-estimator-id-3\" class=\"sk-toggleable__label sk-toggleable__label-arrow\">MultinomialNB</label><div class=\"sk-toggleable__content\"><pre>MultinomialNB()</pre></div></div></div></div></div>"
      ],
      "text/plain": [
       "MultinomialNB()"
      ]
     },
     "execution_count": 49,
     "metadata": {},
     "output_type": "execute_result"
    }
   ],
   "source": [
    "%%time\n",
    "mnb_model=MultinomialNB()\n",
    "mnb_model.fit(x_train,y_train)"
   ]
  },
  {
   "cell_type": "code",
   "execution_count": 50,
   "id": "29f35e3a-2a6b-448e-b3d0-ebddce3c65f6",
   "metadata": {},
   "outputs": [
    {
     "name": "stdout",
     "output_type": "stream",
     "text": [
      "Test accuracy is  0.5886\n",
      "Wall time: 52.4 ms\n"
     ]
    }
   ],
   "source": [
    "%%time\n",
    "y_pred_test=mnb_model.predict(x_test)\n",
    "test_acc=accuracy_score(y_test,y_pred_test)\n",
    "print('Test accuracy is ',test_acc)"
   ]
  },
  {
   "cell_type": "code",
   "execution_count": 51,
   "id": "dbb5c48a-b3e0-4d37-8dab-7258f18ab3be",
   "metadata": {},
   "outputs": [
    {
     "name": "stdout",
     "output_type": "stream",
     "text": [
      "Train accuracy is  0.6015333333333334\n",
      "Wall time: 126 ms\n"
     ]
    }
   ],
   "source": [
    "%%time\n",
    "y_pred_train=mnb_model.predict(x_train)\n",
    "train_acc=accuracy_score(y_train,y_pred_train)\n",
    "print('Train accuracy is ',train_acc)"
   ]
  },
  {
   "cell_type": "code",
   "execution_count": 52,
   "id": "07f9f3e0-9c9e-4875-a2f5-f7a651ac729c",
   "metadata": {},
   "outputs": [
    {
     "name": "stdout",
     "output_type": "stream",
     "text": [
      "Variance is  1.2933333333333352\n",
      "Bias is  34.84666666666666\n"
     ]
    }
   ],
   "source": [
    "print('Variance is ',(train_acc-test_acc)*100)\n",
    "print('Bias is ',(0.95-train_acc)*100)"
   ]
  },
  {
   "cell_type": "markdown",
   "id": "9e17a21d-f593-459f-8520-414d7da11788",
   "metadata": {},
   "source": [
    "## SVM"
   ]
  },
  {
   "cell_type": "code",
   "execution_count": 53,
   "id": "cc625e79-777c-4cae-8d6a-e241a8b8b747",
   "metadata": {},
   "outputs": [
    {
     "name": "stdout",
     "output_type": "stream",
     "text": [
      "Wall time: 26min 23s\n"
     ]
    },
    {
     "data": {
      "text/html": [
       "<style>#sk-container-id-4 {color: black;background-color: white;}#sk-container-id-4 pre{padding: 0;}#sk-container-id-4 div.sk-toggleable {background-color: white;}#sk-container-id-4 label.sk-toggleable__label {cursor: pointer;display: block;width: 100%;margin-bottom: 0;padding: 0.3em;box-sizing: border-box;text-align: center;}#sk-container-id-4 label.sk-toggleable__label-arrow:before {content: \"▸\";float: left;margin-right: 0.25em;color: #696969;}#sk-container-id-4 label.sk-toggleable__label-arrow:hover:before {color: black;}#sk-container-id-4 div.sk-estimator:hover label.sk-toggleable__label-arrow:before {color: black;}#sk-container-id-4 div.sk-toggleable__content {max-height: 0;max-width: 0;overflow: hidden;text-align: left;background-color: #f0f8ff;}#sk-container-id-4 div.sk-toggleable__content pre {margin: 0.2em;color: black;border-radius: 0.25em;background-color: #f0f8ff;}#sk-container-id-4 input.sk-toggleable__control:checked~div.sk-toggleable__content {max-height: 200px;max-width: 100%;overflow: auto;}#sk-container-id-4 input.sk-toggleable__control:checked~label.sk-toggleable__label-arrow:before {content: \"▾\";}#sk-container-id-4 div.sk-estimator input.sk-toggleable__control:checked~label.sk-toggleable__label {background-color: #d4ebff;}#sk-container-id-4 div.sk-label input.sk-toggleable__control:checked~label.sk-toggleable__label {background-color: #d4ebff;}#sk-container-id-4 input.sk-hidden--visually {border: 0;clip: rect(1px 1px 1px 1px);clip: rect(1px, 1px, 1px, 1px);height: 1px;margin: -1px;overflow: hidden;padding: 0;position: absolute;width: 1px;}#sk-container-id-4 div.sk-estimator {font-family: monospace;background-color: #f0f8ff;border: 1px dotted black;border-radius: 0.25em;box-sizing: border-box;margin-bottom: 0.5em;}#sk-container-id-4 div.sk-estimator:hover {background-color: #d4ebff;}#sk-container-id-4 div.sk-parallel-item::after {content: \"\";width: 100%;border-bottom: 1px solid gray;flex-grow: 1;}#sk-container-id-4 div.sk-label:hover label.sk-toggleable__label {background-color: #d4ebff;}#sk-container-id-4 div.sk-serial::before {content: \"\";position: absolute;border-left: 1px solid gray;box-sizing: border-box;top: 0;bottom: 0;left: 50%;z-index: 0;}#sk-container-id-4 div.sk-serial {display: flex;flex-direction: column;align-items: center;background-color: white;padding-right: 0.2em;padding-left: 0.2em;position: relative;}#sk-container-id-4 div.sk-item {position: relative;z-index: 1;}#sk-container-id-4 div.sk-parallel {display: flex;align-items: stretch;justify-content: center;background-color: white;position: relative;}#sk-container-id-4 div.sk-item::before, #sk-container-id-4 div.sk-parallel-item::before {content: \"\";position: absolute;border-left: 1px solid gray;box-sizing: border-box;top: 0;bottom: 0;left: 50%;z-index: -1;}#sk-container-id-4 div.sk-parallel-item {display: flex;flex-direction: column;z-index: 1;position: relative;background-color: white;}#sk-container-id-4 div.sk-parallel-item:first-child::after {align-self: flex-end;width: 50%;}#sk-container-id-4 div.sk-parallel-item:last-child::after {align-self: flex-start;width: 50%;}#sk-container-id-4 div.sk-parallel-item:only-child::after {width: 0;}#sk-container-id-4 div.sk-dashed-wrapped {border: 1px dashed gray;margin: 0 0.4em 0.5em 0.4em;box-sizing: border-box;padding-bottom: 0.4em;background-color: white;}#sk-container-id-4 div.sk-label label {font-family: monospace;font-weight: bold;display: inline-block;line-height: 1.2em;}#sk-container-id-4 div.sk-label-container {text-align: center;}#sk-container-id-4 div.sk-container {/* jupyter's `normalize.less` sets `[hidden] { display: none; }` but bootstrap.min.css set `[hidden] { display: none !important; }` so we also need the `!important` here to be able to override the default hidden behavior on the sphinx rendered scikit-learn.org. See: https://github.com/scikit-learn/scikit-learn/issues/21755 */display: inline-block !important;position: relative;}#sk-container-id-4 div.sk-text-repr-fallback {display: none;}</style><div id=\"sk-container-id-4\" class=\"sk-top-container\"><div class=\"sk-text-repr-fallback\"><pre>SVC()</pre><b>In a Jupyter environment, please rerun this cell to show the HTML representation or trust the notebook. <br />On GitHub, the HTML representation is unable to render, please try loading this page with nbviewer.org.</b></div><div class=\"sk-container\" hidden><div class=\"sk-item\"><div class=\"sk-estimator sk-toggleable\"><input class=\"sk-toggleable__control sk-hidden--visually\" id=\"sk-estimator-id-4\" type=\"checkbox\" checked><label for=\"sk-estimator-id-4\" class=\"sk-toggleable__label sk-toggleable__label-arrow\">SVC</label><div class=\"sk-toggleable__content\"><pre>SVC()</pre></div></div></div></div></div>"
      ],
      "text/plain": [
       "SVC()"
      ]
     },
     "execution_count": 53,
     "metadata": {},
     "output_type": "execute_result"
    }
   ],
   "source": [
    "%%time\n",
    "svc_model=SVC()\n",
    "svc_model.fit(x_train,y_train)"
   ]
  },
  {
   "cell_type": "code",
   "execution_count": 54,
   "id": "88848cd9-bef1-42a9-a24d-2f0865a94cc6",
   "metadata": {},
   "outputs": [
    {
     "name": "stdout",
     "output_type": "stream",
     "text": [
      "Test accuracy is  0.8467\n",
      "Wall time: 3min 19s\n"
     ]
    }
   ],
   "source": [
    "%%time\n",
    "y_pred_test=svc_model.predict(x_test)\n",
    "test_acc=accuracy_score(y_test,y_pred_test)\n",
    "print('Test accuracy is ',test_acc)"
   ]
  },
  {
   "cell_type": "code",
   "execution_count": 55,
   "id": "6ba361ce-7de8-4742-9e36-7cc414552e66",
   "metadata": {},
   "outputs": [
    {
     "name": "stdout",
     "output_type": "stream",
     "text": [
      "Train accuracy is  0.9058\n",
      "Wall time: 9min 21s\n"
     ]
    }
   ],
   "source": [
    "%%time\n",
    "y_pred_train=svc_model.predict(x_train)\n",
    "train_acc=accuracy_score(y_train,y_pred_train)\n",
    "print('Train accuracy is ',train_acc)"
   ]
  },
  {
   "cell_type": "code",
   "execution_count": 56,
   "id": "ab56cc93-5c25-4ade-b902-4af986bf58b6",
   "metadata": {},
   "outputs": [
    {
     "name": "stdout",
     "output_type": "stream",
     "text": [
      "Variance is  5.910000000000004\n",
      "Bias is  4.419999999999991\n"
     ]
    }
   ],
   "source": [
    "print('Variance is ',abs(train_acc-test_acc)*100)\n",
    "print('Bias is ',(0.95-train_acc)*100)"
   ]
  },
  {
   "cell_type": "markdown",
   "id": "b6a61be2-41d0-4294-891a-d8079ee3e0a1",
   "metadata": {},
   "source": [
    "## XGBoost"
   ]
  },
  {
   "cell_type": "code",
   "execution_count": 57,
   "id": "3e512528-32e1-4e45-b614-2f090619c8f8",
   "metadata": {},
   "outputs": [
    {
     "name": "stdout",
     "output_type": "stream",
     "text": [
      "Wall time: 1min 48s\n"
     ]
    },
    {
     "data": {
      "text/html": [
       "<style>#sk-container-id-5 {color: black;background-color: white;}#sk-container-id-5 pre{padding: 0;}#sk-container-id-5 div.sk-toggleable {background-color: white;}#sk-container-id-5 label.sk-toggleable__label {cursor: pointer;display: block;width: 100%;margin-bottom: 0;padding: 0.3em;box-sizing: border-box;text-align: center;}#sk-container-id-5 label.sk-toggleable__label-arrow:before {content: \"▸\";float: left;margin-right: 0.25em;color: #696969;}#sk-container-id-5 label.sk-toggleable__label-arrow:hover:before {color: black;}#sk-container-id-5 div.sk-estimator:hover label.sk-toggleable__label-arrow:before {color: black;}#sk-container-id-5 div.sk-toggleable__content {max-height: 0;max-width: 0;overflow: hidden;text-align: left;background-color: #f0f8ff;}#sk-container-id-5 div.sk-toggleable__content pre {margin: 0.2em;color: black;border-radius: 0.25em;background-color: #f0f8ff;}#sk-container-id-5 input.sk-toggleable__control:checked~div.sk-toggleable__content {max-height: 200px;max-width: 100%;overflow: auto;}#sk-container-id-5 input.sk-toggleable__control:checked~label.sk-toggleable__label-arrow:before {content: \"▾\";}#sk-container-id-5 div.sk-estimator input.sk-toggleable__control:checked~label.sk-toggleable__label {background-color: #d4ebff;}#sk-container-id-5 div.sk-label input.sk-toggleable__control:checked~label.sk-toggleable__label {background-color: #d4ebff;}#sk-container-id-5 input.sk-hidden--visually {border: 0;clip: rect(1px 1px 1px 1px);clip: rect(1px, 1px, 1px, 1px);height: 1px;margin: -1px;overflow: hidden;padding: 0;position: absolute;width: 1px;}#sk-container-id-5 div.sk-estimator {font-family: monospace;background-color: #f0f8ff;border: 1px dotted black;border-radius: 0.25em;box-sizing: border-box;margin-bottom: 0.5em;}#sk-container-id-5 div.sk-estimator:hover {background-color: #d4ebff;}#sk-container-id-5 div.sk-parallel-item::after {content: \"\";width: 100%;border-bottom: 1px solid gray;flex-grow: 1;}#sk-container-id-5 div.sk-label:hover label.sk-toggleable__label {background-color: #d4ebff;}#sk-container-id-5 div.sk-serial::before {content: \"\";position: absolute;border-left: 1px solid gray;box-sizing: border-box;top: 0;bottom: 0;left: 50%;z-index: 0;}#sk-container-id-5 div.sk-serial {display: flex;flex-direction: column;align-items: center;background-color: white;padding-right: 0.2em;padding-left: 0.2em;position: relative;}#sk-container-id-5 div.sk-item {position: relative;z-index: 1;}#sk-container-id-5 div.sk-parallel {display: flex;align-items: stretch;justify-content: center;background-color: white;position: relative;}#sk-container-id-5 div.sk-item::before, #sk-container-id-5 div.sk-parallel-item::before {content: \"\";position: absolute;border-left: 1px solid gray;box-sizing: border-box;top: 0;bottom: 0;left: 50%;z-index: -1;}#sk-container-id-5 div.sk-parallel-item {display: flex;flex-direction: column;z-index: 1;position: relative;background-color: white;}#sk-container-id-5 div.sk-parallel-item:first-child::after {align-self: flex-end;width: 50%;}#sk-container-id-5 div.sk-parallel-item:last-child::after {align-self: flex-start;width: 50%;}#sk-container-id-5 div.sk-parallel-item:only-child::after {width: 0;}#sk-container-id-5 div.sk-dashed-wrapped {border: 1px dashed gray;margin: 0 0.4em 0.5em 0.4em;box-sizing: border-box;padding-bottom: 0.4em;background-color: white;}#sk-container-id-5 div.sk-label label {font-family: monospace;font-weight: bold;display: inline-block;line-height: 1.2em;}#sk-container-id-5 div.sk-label-container {text-align: center;}#sk-container-id-5 div.sk-container {/* jupyter's `normalize.less` sets `[hidden] { display: none; }` but bootstrap.min.css set `[hidden] { display: none !important; }` so we also need the `!important` here to be able to override the default hidden behavior on the sphinx rendered scikit-learn.org. See: https://github.com/scikit-learn/scikit-learn/issues/21755 */display: inline-block !important;position: relative;}#sk-container-id-5 div.sk-text-repr-fallback {display: none;}</style><div id=\"sk-container-id-5\" class=\"sk-top-container\"><div class=\"sk-text-repr-fallback\"><pre>XGBClassifier(base_score=0.5, booster=&#x27;gbtree&#x27;, callbacks=None,\n",
       "              colsample_bylevel=1, colsample_bynode=1, colsample_bytree=1,\n",
       "              early_stopping_rounds=None, enable_categorical=False,\n",
       "              eval_metric=None, gamma=0, gpu_id=-1, grow_policy=&#x27;depthwise&#x27;,\n",
       "              importance_type=None, interaction_constraints=&#x27;&#x27;,\n",
       "              learning_rate=0.300000012, max_bin=256, max_cat_to_onehot=4,\n",
       "              max_delta_step=0, max_depth=6, max_leaves=0, min_child_weight=1,\n",
       "              missing=nan, monotone_constraints=&#x27;()&#x27;, n_estimators=100,\n",
       "              n_jobs=0, num_parallel_tree=1, objective=&#x27;multi:softprob&#x27;,\n",
       "              predictor=&#x27;auto&#x27;, random_state=0, reg_alpha=0, ...)</pre><b>In a Jupyter environment, please rerun this cell to show the HTML representation or trust the notebook. <br />On GitHub, the HTML representation is unable to render, please try loading this page with nbviewer.org.</b></div><div class=\"sk-container\" hidden><div class=\"sk-item\"><div class=\"sk-estimator sk-toggleable\"><input class=\"sk-toggleable__control sk-hidden--visually\" id=\"sk-estimator-id-5\" type=\"checkbox\" checked><label for=\"sk-estimator-id-5\" class=\"sk-toggleable__label sk-toggleable__label-arrow\">XGBClassifier</label><div class=\"sk-toggleable__content\"><pre>XGBClassifier(base_score=0.5, booster=&#x27;gbtree&#x27;, callbacks=None,\n",
       "              colsample_bylevel=1, colsample_bynode=1, colsample_bytree=1,\n",
       "              early_stopping_rounds=None, enable_categorical=False,\n",
       "              eval_metric=None, gamma=0, gpu_id=-1, grow_policy=&#x27;depthwise&#x27;,\n",
       "              importance_type=None, interaction_constraints=&#x27;&#x27;,\n",
       "              learning_rate=0.300000012, max_bin=256, max_cat_to_onehot=4,\n",
       "              max_delta_step=0, max_depth=6, max_leaves=0, min_child_weight=1,\n",
       "              missing=nan, monotone_constraints=&#x27;()&#x27;, n_estimators=100,\n",
       "              n_jobs=0, num_parallel_tree=1, objective=&#x27;multi:softprob&#x27;,\n",
       "              predictor=&#x27;auto&#x27;, random_state=0, reg_alpha=0, ...)</pre></div></div></div></div></div>"
      ],
      "text/plain": [
       "XGBClassifier(base_score=0.5, booster='gbtree', callbacks=None,\n",
       "              colsample_bylevel=1, colsample_bynode=1, colsample_bytree=1,\n",
       "              early_stopping_rounds=None, enable_categorical=False,\n",
       "              eval_metric=None, gamma=0, gpu_id=-1, grow_policy='depthwise',\n",
       "              importance_type=None, interaction_constraints='',\n",
       "              learning_rate=0.300000012, max_bin=256, max_cat_to_onehot=4,\n",
       "              max_delta_step=0, max_depth=6, max_leaves=0, min_child_weight=1,\n",
       "              missing=nan, monotone_constraints='()', n_estimators=100,\n",
       "              n_jobs=0, num_parallel_tree=1, objective='multi:softprob',\n",
       "              predictor='auto', random_state=0, reg_alpha=0, ...)"
      ]
     },
     "execution_count": 57,
     "metadata": {},
     "output_type": "execute_result"
    }
   ],
   "source": [
    "%%time\n",
    "xgb_model=xgboost.XGBClassifier()\n",
    "xgb_model.fit(x_train,y_train)"
   ]
  },
  {
   "cell_type": "code",
   "execution_count": 58,
   "id": "4ae158bf-bf0d-4c20-92a1-e95661b31550",
   "metadata": {},
   "outputs": [
    {
     "name": "stdout",
     "output_type": "stream",
     "text": [
      "Test accuracy is  0.672\n",
      "Wall time: 185 ms\n"
     ]
    }
   ],
   "source": [
    "%%time\n",
    "y_pred_test=xgb_model.predict(x_test)\n",
    "test_acc=accuracy_score(y_test,y_pred_test)\n",
    "print('Test accuracy is ',test_acc)"
   ]
  },
  {
   "cell_type": "code",
   "execution_count": 59,
   "id": "8b2e6791-621c-4239-8720-f9c0accf2f45",
   "metadata": {},
   "outputs": [
    {
     "name": "stdout",
     "output_type": "stream",
     "text": [
      "Train accuracy is  0.7476666666666667\n",
      "Wall time: 454 ms\n"
     ]
    }
   ],
   "source": [
    "%%time\n",
    "y_pred_train=xgb_model.predict(x_train)\n",
    "train_acc=accuracy_score(y_train,y_pred_train)\n",
    "print('Train accuracy is ',train_acc)"
   ]
  },
  {
   "cell_type": "code",
   "execution_count": 60,
   "id": "d08365b4-6557-4cff-b85b-83f4f3f95f8b",
   "metadata": {},
   "outputs": [
    {
     "name": "stdout",
     "output_type": "stream",
     "text": [
      "Variance is  7.566666666666666\n",
      "Bias is  20.233333333333327\n"
     ]
    }
   ],
   "source": [
    "print('Variance is ',(train_acc-test_acc)*100)\n",
    "print('Bias is ',(0.95-train_acc)*100)"
   ]
  },
  {
   "cell_type": "markdown",
   "id": "f409ef40-9141-4947-97cd-85da1dd97b9f",
   "metadata": {},
   "source": [
    "## Random Forest Classifier"
   ]
  },
  {
   "cell_type": "code",
   "execution_count": 61,
   "id": "3f407fa8-4709-4e7e-83da-659bf3dd6069",
   "metadata": {},
   "outputs": [
    {
     "name": "stdout",
     "output_type": "stream",
     "text": [
      "Wall time: 59.3 s\n"
     ]
    },
    {
     "data": {
      "text/html": [
       "<style>#sk-container-id-6 {color: black;background-color: white;}#sk-container-id-6 pre{padding: 0;}#sk-container-id-6 div.sk-toggleable {background-color: white;}#sk-container-id-6 label.sk-toggleable__label {cursor: pointer;display: block;width: 100%;margin-bottom: 0;padding: 0.3em;box-sizing: border-box;text-align: center;}#sk-container-id-6 label.sk-toggleable__label-arrow:before {content: \"▸\";float: left;margin-right: 0.25em;color: #696969;}#sk-container-id-6 label.sk-toggleable__label-arrow:hover:before {color: black;}#sk-container-id-6 div.sk-estimator:hover label.sk-toggleable__label-arrow:before {color: black;}#sk-container-id-6 div.sk-toggleable__content {max-height: 0;max-width: 0;overflow: hidden;text-align: left;background-color: #f0f8ff;}#sk-container-id-6 div.sk-toggleable__content pre {margin: 0.2em;color: black;border-radius: 0.25em;background-color: #f0f8ff;}#sk-container-id-6 input.sk-toggleable__control:checked~div.sk-toggleable__content {max-height: 200px;max-width: 100%;overflow: auto;}#sk-container-id-6 input.sk-toggleable__control:checked~label.sk-toggleable__label-arrow:before {content: \"▾\";}#sk-container-id-6 div.sk-estimator input.sk-toggleable__control:checked~label.sk-toggleable__label {background-color: #d4ebff;}#sk-container-id-6 div.sk-label input.sk-toggleable__control:checked~label.sk-toggleable__label {background-color: #d4ebff;}#sk-container-id-6 input.sk-hidden--visually {border: 0;clip: rect(1px 1px 1px 1px);clip: rect(1px, 1px, 1px, 1px);height: 1px;margin: -1px;overflow: hidden;padding: 0;position: absolute;width: 1px;}#sk-container-id-6 div.sk-estimator {font-family: monospace;background-color: #f0f8ff;border: 1px dotted black;border-radius: 0.25em;box-sizing: border-box;margin-bottom: 0.5em;}#sk-container-id-6 div.sk-estimator:hover {background-color: #d4ebff;}#sk-container-id-6 div.sk-parallel-item::after {content: \"\";width: 100%;border-bottom: 1px solid gray;flex-grow: 1;}#sk-container-id-6 div.sk-label:hover label.sk-toggleable__label {background-color: #d4ebff;}#sk-container-id-6 div.sk-serial::before {content: \"\";position: absolute;border-left: 1px solid gray;box-sizing: border-box;top: 0;bottom: 0;left: 50%;z-index: 0;}#sk-container-id-6 div.sk-serial {display: flex;flex-direction: column;align-items: center;background-color: white;padding-right: 0.2em;padding-left: 0.2em;position: relative;}#sk-container-id-6 div.sk-item {position: relative;z-index: 1;}#sk-container-id-6 div.sk-parallel {display: flex;align-items: stretch;justify-content: center;background-color: white;position: relative;}#sk-container-id-6 div.sk-item::before, #sk-container-id-6 div.sk-parallel-item::before {content: \"\";position: absolute;border-left: 1px solid gray;box-sizing: border-box;top: 0;bottom: 0;left: 50%;z-index: -1;}#sk-container-id-6 div.sk-parallel-item {display: flex;flex-direction: column;z-index: 1;position: relative;background-color: white;}#sk-container-id-6 div.sk-parallel-item:first-child::after {align-self: flex-end;width: 50%;}#sk-container-id-6 div.sk-parallel-item:last-child::after {align-self: flex-start;width: 50%;}#sk-container-id-6 div.sk-parallel-item:only-child::after {width: 0;}#sk-container-id-6 div.sk-dashed-wrapped {border: 1px dashed gray;margin: 0 0.4em 0.5em 0.4em;box-sizing: border-box;padding-bottom: 0.4em;background-color: white;}#sk-container-id-6 div.sk-label label {font-family: monospace;font-weight: bold;display: inline-block;line-height: 1.2em;}#sk-container-id-6 div.sk-label-container {text-align: center;}#sk-container-id-6 div.sk-container {/* jupyter's `normalize.less` sets `[hidden] { display: none; }` but bootstrap.min.css set `[hidden] { display: none !important; }` so we also need the `!important` here to be able to override the default hidden behavior on the sphinx rendered scikit-learn.org. See: https://github.com/scikit-learn/scikit-learn/issues/21755 */display: inline-block !important;position: relative;}#sk-container-id-6 div.sk-text-repr-fallback {display: none;}</style><div id=\"sk-container-id-6\" class=\"sk-top-container\"><div class=\"sk-text-repr-fallback\"><pre>RandomForestClassifier()</pre><b>In a Jupyter environment, please rerun this cell to show the HTML representation or trust the notebook. <br />On GitHub, the HTML representation is unable to render, please try loading this page with nbviewer.org.</b></div><div class=\"sk-container\" hidden><div class=\"sk-item\"><div class=\"sk-estimator sk-toggleable\"><input class=\"sk-toggleable__control sk-hidden--visually\" id=\"sk-estimator-id-6\" type=\"checkbox\" checked><label for=\"sk-estimator-id-6\" class=\"sk-toggleable__label sk-toggleable__label-arrow\">RandomForestClassifier</label><div class=\"sk-toggleable__content\"><pre>RandomForestClassifier()</pre></div></div></div></div></div>"
      ],
      "text/plain": [
       "RandomForestClassifier()"
      ]
     },
     "execution_count": 61,
     "metadata": {},
     "output_type": "execute_result"
    }
   ],
   "source": [
    "%%time\n",
    "rfc_model=RandomForestClassifier()\n",
    "rfc_model.fit(x_train,y_train)"
   ]
  },
  {
   "cell_type": "code",
   "execution_count": 62,
   "id": "f7281fa4-da4a-4a7e-bb31-4159f4749187",
   "metadata": {},
   "outputs": [
    {
     "name": "stdout",
     "output_type": "stream",
     "text": [
      "Test accuracy is  0.8433\n",
      "Wall time: 800 ms\n"
     ]
    }
   ],
   "source": [
    "%%time\n",
    "y_pred_test=rfc_model.predict(x_test)\n",
    "test_acc=accuracy_score(y_test,y_pred_test)\n",
    "print('Test accuracy is ',test_acc)"
   ]
  },
  {
   "cell_type": "code",
   "execution_count": 63,
   "id": "0532b9bc-ba0b-4087-9986-ed08165f264d",
   "metadata": {},
   "outputs": [
    {
     "name": "stdout",
     "output_type": "stream",
     "text": [
      "Train accuracy is  0.9283333333333333\n",
      "Wall time: 2.13 s\n"
     ]
    }
   ],
   "source": [
    "%%time\n",
    "y_pred_train=rfc_model.predict(x_train)\n",
    "train_acc=accuracy_score(y_train,y_pred_train)\n",
    "print('Train accuracy is ',train_acc)"
   ]
  },
  {
   "cell_type": "code",
   "execution_count": 64,
   "id": "798def65-2343-46f8-aa26-e410d0b6db02",
   "metadata": {},
   "outputs": [
    {
     "name": "stdout",
     "output_type": "stream",
     "text": [
      "Variance is  8.50333333333333\n",
      "Bias is  2.166666666666661\n"
     ]
    }
   ],
   "source": [
    "print('Variance is ',(train_acc-test_acc)*100)\n",
    "print('Bias is ',(0.95-train_acc)*100)"
   ]
  },
  {
   "cell_type": "markdown",
   "id": "b205a2e0-0b01-4f0b-a8d1-4e05cc2e12a2",
   "metadata": {},
   "source": [
    "#### Finding the labels for classes"
   ]
  },
  {
   "cell_type": "code",
   "execution_count": 66,
   "id": "51aa7960-5c44-47ef-b71d-1440aab6d6fa",
   "metadata": {},
   "outputs": [
    {
     "data": {
      "text/html": [
       "<div>\n",
       "<style scoped>\n",
       "    .dataframe tbody tr th:only-of-type {\n",
       "        vertical-align: middle;\n",
       "    }\n",
       "\n",
       "    .dataframe tbody tr th {\n",
       "        vertical-align: top;\n",
       "    }\n",
       "\n",
       "    .dataframe thead th {\n",
       "        text-align: right;\n",
       "    }\n",
       "</style>\n",
       "<table border=\"1\" class=\"dataframe\">\n",
       "  <thead>\n",
       "    <tr style=\"text-align: right;\">\n",
       "      <th></th>\n",
       "      <th>label</th>\n",
       "      <th>encoded_label</th>\n",
       "    </tr>\n",
       "  </thead>\n",
       "  <tbody>\n",
       "    <tr>\n",
       "      <th>0</th>\n",
       "      <td>Irrelevant</td>\n",
       "      <td>0</td>\n",
       "    </tr>\n",
       "    <tr>\n",
       "      <th>1</th>\n",
       "      <td>Negative</td>\n",
       "      <td>1</td>\n",
       "    </tr>\n",
       "    <tr>\n",
       "      <th>2</th>\n",
       "      <td>Neutral</td>\n",
       "      <td>2</td>\n",
       "    </tr>\n",
       "    <tr>\n",
       "      <th>3</th>\n",
       "      <td>Positive</td>\n",
       "      <td>3</td>\n",
       "    </tr>\n",
       "  </tbody>\n",
       "</table>\n",
       "</div>"
      ],
      "text/plain": [
       "        label  encoded_label\n",
       "0  Irrelevant              0\n",
       "1    Negative              1\n",
       "2     Neutral              2\n",
       "3    Positive              3"
      ]
     },
     "execution_count": 66,
     "metadata": {},
     "output_type": "execute_result"
    }
   ],
   "source": [
    "encoder1=LabelEncoder()\n",
    "label=df1['Target']\n",
    "encoded_label=encoder.fit_transform(df1['Target'])\n",
    "param=pd.DataFrame({'label':label,'encoded_label':encoded_label})\n",
    "param.groupby('label').first().reset_index()"
   ]
  },
  {
   "cell_type": "markdown",
   "id": "1951e0ac-9b3d-40d5-a6db-c9a31b5820a8",
   "metadata": {},
   "source": [
    "## Storing the important models as pickle file"
   ]
  },
  {
   "cell_type": "code",
   "execution_count": 69,
   "id": "cdbd41c8-3fa8-4df5-91f0-0564ea8442aa",
   "metadata": {},
   "outputs": [],
   "source": [
    "import pickle as pkl\n",
    "\n",
    "with open(r'C:\\Users\\Omkar\\Desktop\\Practice\\Datasets\\Twitter Sentiment Analysis\\Artifacts\\svm_model.pkl','wb') as file:\n",
    "    pkl.dump(svc_model,file)\n",
    "    "
   ]
  },
  {
   "cell_type": "code",
   "execution_count": 70,
   "id": "8b27bc39-cf46-481f-b54c-ebadd39fa19a",
   "metadata": {},
   "outputs": [],
   "source": [
    "with open(r'C:\\Users\\Omkar\\Desktop\\Practice\\Datasets\\Twitter Sentiment Analysis\\Artifacts\\xgb_model.pkl','wb') as file:\n",
    "    pkl.dump(xgb_model,file)\n",
    "    \n",
    "with open(r'C:\\Users\\Omkar\\Desktop\\Practice\\Datasets\\Twitter Sentiment Analysis\\Artifacts\\rfc_model.pkl','wb') as file:\n",
    "    pkl.dump(rfc_model,file)\n",
    "    \n",
    "with open(r'C:\\Users\\Omkar\\Desktop\\Practice\\Datasets\\Twitter Sentiment Analysis\\Artifacts\\mnb_model.pkl','wb') as file:\n",
    "    pkl.dump(mnb_model,file)"
   ]
  },
  {
   "cell_type": "code",
   "execution_count": 71,
   "id": "a299e6b9-eb6e-4a1c-8eaf-52d047f3e530",
   "metadata": {},
   "outputs": [],
   "source": [
    "with open(r'C:\\Users\\Omkar\\Desktop\\Practice\\Datasets\\Twitter Sentiment Analysis\\Artifacts\\tfidf.pkl','wb') as file:\n",
    "    pkl.dump(tf,file)\n",
    "    \n",
    "with open(r'C:\\Users\\Omkar\\Desktop\\Practice\\Datasets\\Twitter Sentiment Analysis\\Artifacts\\cv.pkl','wb') as file:\n",
    "    pkl.dump(cv,file)"
   ]
  },
  {
   "cell_type": "code",
   "execution_count": null,
   "id": "3a2c7574-3ae2-4b76-bc5a-4d2efb55194e",
   "metadata": {},
   "outputs": [],
   "source": []
  }
 ],
 "metadata": {
  "kernelspec": {
   "display_name": "Python 3 (ipykernel)",
   "language": "python",
   "name": "python3"
  },
  "language_info": {
   "codemirror_mode": {
    "name": "ipython",
    "version": 3
   },
   "file_extension": ".py",
   "mimetype": "text/x-python",
   "name": "python",
   "nbconvert_exporter": "python",
   "pygments_lexer": "ipython3",
   "version": "3.9.7"
  }
 },
 "nbformat": 4,
 "nbformat_minor": 5
}
